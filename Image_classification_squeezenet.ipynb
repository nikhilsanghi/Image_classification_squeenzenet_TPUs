{
  "nbformat": 4,
  "nbformat_minor": 0,
  "metadata": {
    "colab": {
      "name": "squeezenet.ipynb",
      "provenance": [],
      "collapsed_sections": []
    },
    "kernelspec": {
      "name": "python3",
      "display_name": "Python 3"
    },
    "language_info": {
      "name": "python"
    },
    "accelerator": "TPU"
  },
  "cells": [
    {
      "cell_type": "markdown",
      "source": [
        "##Classification of flowers images using model Squeezenet on Cloud TPUs on Tensorflow.**bold text**"
      ],
      "metadata": {
        "id": "sApd5wQnX467"
      }
    },
    {
      "cell_type": "markdown",
      "source": [
        "\n",
        "We need to access personal GCS bucket \n",
        "gs://nikhil-sanghi-tpu, authenticating this "
      ],
      "metadata": {
        "id": "Lv33MiQAYMdy"
      }
    },
    {
      "cell_type": "code",
      "source": [
        "from google.colab import auth\n",
        "auth.authenticate_user()"
      ],
      "metadata": {
        "id": "kPujHmc7Dt81"
      },
      "execution_count": 29,
      "outputs": []
    },
    {
      "cell_type": "code",
      "source": [
        "# Importing the required libraries\n",
        "import os, sys, math\n",
        "import numpy as np\n",
        "from matplotlib import pyplot as plt\n",
        "import tensorflow as tf\n",
        "from datetime import datetime\n",
        "\n",
        "print(\"Tensorflow version \" + tf.__version__)\n",
        "\n",
        "AUTOTUNE = tf.data.AUTOTUNE"
      ],
      "metadata": {
        "colab": {
          "base_uri": "https://localhost:8080/"
        },
        "id": "N44RvnXoDLb0",
        "outputId": "16cb393f-0441-40ad-992c-8635fba6c181"
      },
      "execution_count": 30,
      "outputs": [
        {
          "output_type": "stream",
          "name": "stdout",
          "text": [
            "Tensorflow version 2.7.0\n"
          ]
        }
      ]
    },
    {
      "cell_type": "code",
      "source": [
        "# Initialising variable\n",
        "GCS_PATTERN_JPG = 'gs://flowers-public/*/*.jpg'\n",
        "GCS_OUTPUT_TFR = 'gs://nikhil-sanghi-tpu/tfrecords-jpeg-192x192-2/flowers'  \n",
        "TARGET_SIZE = [192, 192]\n",
        "CLASSES = [b'daisy', b'dandelion', b'roses', b'sunflowers', b'tulips'] \n",
        "SHARDS=16"
      ],
      "metadata": {
        "id": "tb7G8TYeDgLg"
      },
      "execution_count": 32,
      "outputs": []
    },
    {
      "cell_type": "code",
      "source": [
        "# some Utils functions for later use\n",
        "# loading the dataset in numpy format from feature records format\n",
        "def dataset_to_numpy_util(dataset, N):\n",
        "  dataset = dataset.batch(N)\n",
        "  for images, labels in dataset:\n",
        "    numpy_images = images.numpy()\n",
        "    numpy_labels = labels.numpy()\n",
        "    break;\n",
        "\n",
        "  return numpy_images, numpy_labels\n",
        "\n",
        "# extracting the title and label\n",
        "def title_from_label_and_target(label, correct_label):\n",
        "  label = np.argmax(label, axis=-1)  \n",
        "  correct_label = np.argmax(correct_label, axis=-1) \n",
        "  correct = (label == correct_label)\n",
        "  return \"{} [{}{}{}]\".format(CLASSES[label], str(correct), ', shoud be ' if not correct else '',\n",
        "                              CLASSES[correct_label] if not correct else ''), correct\n",
        "\n",
        "# displaying one image from our dataset\n",
        "def display_one_image(image, title, subplot, red=False):\n",
        "    plt.subplot(subplot)\n",
        "    plt.axis('off')\n",
        "    plt.imshow(image)\n",
        "    plt.title(title, fontsize=16, color='red' if red else 'black')\n",
        "    return subplot+1\n",
        "\n",
        "# displaying a matrix of 9 images\n",
        "def display_9_images_from_dataset(dataset):\n",
        "  subplot=331\n",
        "  plt.figure(figsize=(13,13))\n",
        "  images, labels = dataset_to_numpy_util(dataset, 9)\n",
        "  for i, image in enumerate(images):\n",
        "    title = CLASSES[np.argmax(labels[i], axis=-1)]\n",
        "    subplot = display_one_image(image, title, subplot)\n",
        "    if i >= 8:\n",
        "      break;\n",
        "  plt.subplots_adjust(wspace=0.1, hspace=0.1)\n",
        "  plt.show()\n",
        "\n",
        "# displaying matrix of images with predictions \n",
        "def display_9_images_with_predictions(images, predictions, labels):\n",
        "  subplot=331\n",
        "  plt.figure(figsize=(13,13))\n",
        "  for i, image in enumerate(images):\n",
        "    title, correct = title_from_label_and_target(predictions[i], labels[i])\n",
        "    subplot = display_one_image(image, title, subplot, not correct)\n",
        "    if i >= 8:\n",
        "      break;          \n",
        "  plt.subplots_adjust(wspace=0.1, hspace=0.1)\n",
        "  plt.show()\n",
        "\n",
        "# plotting curves\n",
        "def display_training_curves(training, validation, title, subplot):\n",
        "  if subplot%10==1: # set up the subplots on the first call\n",
        "    plt.subplots(figsize=(10,10), facecolor='#F0F0F0')    \n",
        "  ax = plt.subplot(subplot)\n",
        "  ax.set_facecolor('#F8F8F8')\n",
        "  ax.plot(training)\n",
        "  ax.plot(validation)\n",
        "  ax.set_title('model '+ title)\n",
        "  ax.set_ylabel(title)\n",
        "  ax.set_xlabel('epoch')\n",
        "  ax.legend(['train', 'valid.'])\n",
        "\n",
        "#decoding the jpeg and label from tf.records\n",
        "def decode_jpeg_and_label(filename):\n",
        "  bits = tf.io.read_file(filename)\n",
        "  image = tf.io.decode_jpeg(bits)\n",
        "  label = tf.strings.split(tf.expand_dims(filename, axis=-1), sep='/')\n",
        "  label = label.values[-2]\n",
        "  return image, label\n",
        "\n",
        "# augmenting the image to size them in a fixed dimension\n",
        "def resize_and_crop_image(image, label):\n",
        "  w = tf.shape(image)[0]\n",
        "  h = tf.shape(image)[1]\n",
        "  tw = TARGET_SIZE[1]\n",
        "  th = TARGET_SIZE[0]\n",
        "  resize_crit = (w * th) / (h * tw)\n",
        "  image = tf.cond(resize_crit < 1,\n",
        "                  lambda: tf.image.resize(image, [w*tw/w, h*tw/w]), # if true\n",
        "                  lambda: tf.image.resize(image, [w*th/h, h*th/h])  # if false\n",
        "                 )\n",
        "  nw = tf.shape(image)[0]\n",
        "  nh = tf.shape(image)[1]\n",
        "  image = tf.image.crop_to_bounding_box(image, (nw - tw) // 2, (nh - th) // 2, tw, th)\n",
        "  return image, label\n",
        "\n",
        "# recompressing an image\n",
        "def recompress_image(image, label):\n",
        "  height = tf.shape(image)[0]\n",
        "  width = tf.shape(image)[1]\n",
        "  image = tf.cast(image, tf.uint8)\n",
        "  image = tf.image.encode_jpeg(image, optimize_size=True, chroma_downsampling=False)\n",
        "  return image, label, height, width"
      ],
      "metadata": {
        "id": "jEK2OIeDL1pb"
      },
      "execution_count": 33,
      "outputs": []
    },
    {
      "cell_type": "code",
      "source": [
        "# finding the jpeg files in our cloud storage\n",
        "nb_images = len(tf.io.gfile.glob(GCS_PATTERN_JPG))\n",
        "shard_size = math.ceil(1.0 * nb_images / SHARDS)\n",
        "print(\"Pattern matches {} images which will be rewritten as {} .tfrec files containing {} images each.\".format(nb_images, SHARDS, shard_size))\n",
        "\n",
        "# listing the files in the storage folder and putting seed also shuffles the images file \n",
        "filenames = tf.data.Dataset.list_files(GCS_PATTERN_JPG, seed=35155) \n",
        "# creating a dataset\n",
        "dataset = filenames.map(decode_jpeg_and_label, num_parallel_calls=AUTOTUNE)"
      ],
      "metadata": {
        "colab": {
          "base_uri": "https://localhost:8080/"
        },
        "id": "gVBDGyJHLlB1",
        "outputId": "a5f3e3d9-adb8-425f-8e29-8a11cd2eaf9d"
      },
      "execution_count": 34,
      "outputs": [
        {
          "output_type": "stream",
          "name": "stdout",
          "text": [
            "Pattern matches 3670 images which will be rewritten as 16 .tfrec files containing 230 images each.\n"
          ]
        }
      ]
    },
    {
      "cell_type": "code",
      "source": [
        "#resiszing and croping the images\n",
        "dataset = dataset.map(resize_and_crop_image, num_parallel_calls=AUTOTUNE)"
      ],
      "metadata": {
        "id": "Pbr-cJ4pL7be"
      },
      "execution_count": 35,
      "outputs": []
    },
    {
      "cell_type": "code",
      "source": [
        "# recompressing the images\n",
        "dataset = dataset.map(recompress_image, num_parallel_calls=AUTOTUNE)\n",
        "# creating shards of image dataset\n",
        "dataset = dataset.batch(shard_size)  "
      ],
      "metadata": {
        "id": "16-V-cEVL75a"
      },
      "execution_count": 36,
      "outputs": []
    },
    {
      "cell_type": "code",
      "source": [
        "\n",
        "def _bytestring_feature(list_of_bytestrings):\n",
        "  return tf.train.Feature(bytes_list=tf.train.BytesList(value=list_of_bytestrings))\n",
        "\n",
        "def _int_feature(list_of_ints): \n",
        "  return tf.train.Feature(int64_list=tf.train.Int64List(value=list_of_ints))\n",
        "\n",
        "def _float_feature(list_of_floats): \n",
        "  return tf.train.Feature(float_list=tf.train.FloatList(value=list_of_floats))\n",
        "  \n",
        "\n",
        "def to_tfrecord(tfrec_filewriter, img_bytes, label, height, width):  \n",
        "  class_num = np.argmax(np.array(CLASSES)==label) \n",
        "  one_hot_class = np.eye(len(CLASSES))[class_num]     \n",
        "\n",
        "  feature = {\n",
        "      \"image\": _bytestring_feature([img_bytes]), \n",
        "      \"class\": _int_feature([class_num]),        \n",
        "      \n",
        "      \n",
        "      \"label\":         _bytestring_feature([label]),          \n",
        "      \"size\":          _int_feature([height, width]),         \n",
        "      \"one_hot_class\": _float_feature(one_hot_class.tolist()) \n",
        "  return tf.train.Example(features=tf.train.Features(feature=feature))\n",
        "  \n",
        "print(\"Writing TFRecords\")\n",
        "for shard, (image, label, height, width) in enumerate(dataset):\n",
        "  \n",
        "  shard_size = image.numpy().shape[0]\n",
        "  \n",
        "  filename = GCS_OUTPUT_TFR + \"{:02d}-{}.tfrec\".format(shard, shard_size)\n",
        "  \n",
        "  with tf.io.TFRecordWriter(filename) as out_file:\n",
        "    for i in range(shard_size):\n",
        "      example = to_tfrecord(out_file,\n",
        "                            image.numpy()[i], \n",
        "                            label.numpy()[i],\n",
        "                            height.numpy()[i],\n",
        "                            width.numpy()[i])\n",
        "      out_file.write(example.SerializeToString())\n",
        "    print(\"Wrote file {} containing {} records\".format(filename, shard_size))"
      ],
      "metadata": {
        "colab": {
          "base_uri": "https://localhost:8080/"
        },
        "id": "I33XPox4L78A",
        "outputId": "246afa1b-e659-45d8-8424-2dec74a2e7fa"
      },
      "execution_count": 37,
      "outputs": [
        {
          "output_type": "stream",
          "name": "stdout",
          "text": [
            "Writing TFRecords\n",
            "Wrote file gs://nikhil-sanghi-tpu/tfrecords-jpeg-192x192-2/flowers00-230.tfrec containing 230 records\n",
            "Wrote file gs://nikhil-sanghi-tpu/tfrecords-jpeg-192x192-2/flowers01-230.tfrec containing 230 records\n",
            "Wrote file gs://nikhil-sanghi-tpu/tfrecords-jpeg-192x192-2/flowers02-230.tfrec containing 230 records\n",
            "Wrote file gs://nikhil-sanghi-tpu/tfrecords-jpeg-192x192-2/flowers03-230.tfrec containing 230 records\n",
            "Wrote file gs://nikhil-sanghi-tpu/tfrecords-jpeg-192x192-2/flowers04-230.tfrec containing 230 records\n",
            "Wrote file gs://nikhil-sanghi-tpu/tfrecords-jpeg-192x192-2/flowers05-230.tfrec containing 230 records\n",
            "Wrote file gs://nikhil-sanghi-tpu/tfrecords-jpeg-192x192-2/flowers06-230.tfrec containing 230 records\n",
            "Wrote file gs://nikhil-sanghi-tpu/tfrecords-jpeg-192x192-2/flowers07-230.tfrec containing 230 records\n",
            "Wrote file gs://nikhil-sanghi-tpu/tfrecords-jpeg-192x192-2/flowers08-230.tfrec containing 230 records\n",
            "Wrote file gs://nikhil-sanghi-tpu/tfrecords-jpeg-192x192-2/flowers09-230.tfrec containing 230 records\n",
            "Wrote file gs://nikhil-sanghi-tpu/tfrecords-jpeg-192x192-2/flowers10-230.tfrec containing 230 records\n",
            "Wrote file gs://nikhil-sanghi-tpu/tfrecords-jpeg-192x192-2/flowers11-230.tfrec containing 230 records\n",
            "Wrote file gs://nikhil-sanghi-tpu/tfrecords-jpeg-192x192-2/flowers12-230.tfrec containing 230 records\n",
            "Wrote file gs://nikhil-sanghi-tpu/tfrecords-jpeg-192x192-2/flowers13-230.tfrec containing 230 records\n",
            "Wrote file gs://nikhil-sanghi-tpu/tfrecords-jpeg-192x192-2/flowers14-230.tfrec containing 230 records\n",
            "Wrote file gs://nikhil-sanghi-tpu/tfrecords-jpeg-192x192-2/flowers15-220.tfrec containing 220 records\n"
          ]
        }
      ]
    },
    {
      "cell_type": "code",
      "source": [
        "def read_tfrecord(example):\n",
        "    features = {\n",
        "        \"image\": tf.io.FixedLenFeature([], tf.string),  \n",
        "        \"class\": tf.io.FixedLenFeature([], tf.int64),   \n",
        "        \n",
        "        \n",
        "        \"label\":         tf.io.FixedLenFeature([], tf.string),  \n",
        "        \"size\":          tf.io.FixedLenFeature([2], tf.int64),  \n",
        "        \"one_hot_class\": tf.io.VarLenFeature(tf.float32)        \n",
        "    }\n",
        "    \n",
        "    example = tf.io.parse_single_example(example, features)\n",
        "    image = tf.io.decode_jpeg(example['image'], channels=3)\n",
        "    image = tf.reshape(image, [*TARGET_SIZE, 3])\n",
        "    \n",
        "    class_num = example['class']\n",
        "    \n",
        "    label  = example['label']\n",
        "    height = example['size'][0]\n",
        "    width  = example['size'][1]\n",
        "    one_hot_class = tf.sparse.to_dense(example['one_hot_class'])\n",
        "    return image, class_num, label, height, width, one_hot_class\n",
        "    \n",
        "\n",
        "\n",
        "option_no_order = tf.data.Options()\n",
        "option_no_order.experimental_deterministic = False\n",
        "\n",
        "filenames = tf.io.gfile.glob(GCS_OUTPUT_TFR + \"*.tfrec\")\n",
        "dataset4 = tf.data.TFRecordDataset(filenames, num_parallel_reads=AUTOTUNE)\n",
        "dataset4 = dataset4.with_options(option_no_order)\n",
        "dataset4 = dataset4.map(read_tfrecord, num_parallel_calls=AUTOTUNE)\n",
        "dataset4 = dataset4.shuffle(300)"
      ],
      "metadata": {
        "id": "Cd4hIR0jL7-e"
      },
      "execution_count": 38,
      "outputs": []
    },
    {
      "cell_type": "code",
      "source": [
        "for image, class_num, label, height, width, one_hot_class in dataset4.take(300):\n",
        "    print(\"Image shape {}, {}x{} px, class={} ({:>10}, {})\".format(image.numpy().shape, width, height, class_num, label.numpy().decode('utf8'), one_hot_class))"
      ],
      "metadata": {
        "colab": {
          "base_uri": "https://localhost:8080/"
        },
        "id": "Erzsnwg5L8BI",
        "outputId": "29cb0634-16f6-450a-f310-761dbf9385ab"
      },
      "execution_count": 39,
      "outputs": [
        {
          "output_type": "stream",
          "name": "stdout",
          "text": [
            "Image shape (192, 192, 3), 192x192 px, class=0 (     daisy, [1. 0. 0. 0. 0.])\n",
            "Image shape (192, 192, 3), 192x192 px, class=4 (    tulips, [0. 0. 0. 0. 1.])\n",
            "Image shape (192, 192, 3), 192x192 px, class=1 ( dandelion, [0. 1. 0. 0. 0.])\n",
            "Image shape (192, 192, 3), 192x192 px, class=0 (     daisy, [1. 0. 0. 0. 0.])\n",
            "Image shape (192, 192, 3), 192x192 px, class=2 (     roses, [0. 0. 1. 0. 0.])\n",
            "Image shape (192, 192, 3), 192x192 px, class=4 (    tulips, [0. 0. 0. 0. 1.])\n",
            "Image shape (192, 192, 3), 192x192 px, class=4 (    tulips, [0. 0. 0. 0. 1.])\n",
            "Image shape (192, 192, 3), 192x192 px, class=4 (    tulips, [0. 0. 0. 0. 1.])\n",
            "Image shape (192, 192, 3), 192x192 px, class=3 (sunflowers, [0. 0. 0. 1. 0.])\n",
            "Image shape (192, 192, 3), 192x192 px, class=1 ( dandelion, [0. 1. 0. 0. 0.])\n",
            "Image shape (192, 192, 3), 192x192 px, class=2 (     roses, [0. 0. 1. 0. 0.])\n",
            "Image shape (192, 192, 3), 192x192 px, class=1 ( dandelion, [0. 1. 0. 0. 0.])\n",
            "Image shape (192, 192, 3), 192x192 px, class=0 (     daisy, [1. 0. 0. 0. 0.])\n",
            "Image shape (192, 192, 3), 192x192 px, class=0 (     daisy, [1. 0. 0. 0. 0.])\n",
            "Image shape (192, 192, 3), 192x192 px, class=0 (     daisy, [1. 0. 0. 0. 0.])\n",
            "Image shape (192, 192, 3), 192x192 px, class=3 (sunflowers, [0. 0. 0. 1. 0.])\n",
            "Image shape (192, 192, 3), 192x192 px, class=4 (    tulips, [0. 0. 0. 0. 1.])\n",
            "Image shape (192, 192, 3), 192x192 px, class=4 (    tulips, [0. 0. 0. 0. 1.])\n",
            "Image shape (192, 192, 3), 192x192 px, class=1 ( dandelion, [0. 1. 0. 0. 0.])\n",
            "Image shape (192, 192, 3), 192x192 px, class=1 ( dandelion, [0. 1. 0. 0. 0.])\n",
            "Image shape (192, 192, 3), 192x192 px, class=1 ( dandelion, [0. 1. 0. 0. 0.])\n",
            "Image shape (192, 192, 3), 192x192 px, class=2 (     roses, [0. 0. 1. 0. 0.])\n",
            "Image shape (192, 192, 3), 192x192 px, class=1 ( dandelion, [0. 1. 0. 0. 0.])\n",
            "Image shape (192, 192, 3), 192x192 px, class=3 (sunflowers, [0. 0. 0. 1. 0.])\n",
            "Image shape (192, 192, 3), 192x192 px, class=3 (sunflowers, [0. 0. 0. 1. 0.])\n",
            "Image shape (192, 192, 3), 192x192 px, class=2 (     roses, [0. 0. 1. 0. 0.])\n",
            "Image shape (192, 192, 3), 192x192 px, class=3 (sunflowers, [0. 0. 0. 1. 0.])\n",
            "Image shape (192, 192, 3), 192x192 px, class=2 (     roses, [0. 0. 1. 0. 0.])\n",
            "Image shape (192, 192, 3), 192x192 px, class=2 (     roses, [0. 0. 1. 0. 0.])\n",
            "Image shape (192, 192, 3), 192x192 px, class=3 (sunflowers, [0. 0. 0. 1. 0.])\n",
            "Image shape (192, 192, 3), 192x192 px, class=4 (    tulips, [0. 0. 0. 0. 1.])\n",
            "Image shape (192, 192, 3), 192x192 px, class=2 (     roses, [0. 0. 1. 0. 0.])\n",
            "Image shape (192, 192, 3), 192x192 px, class=0 (     daisy, [1. 0. 0. 0. 0.])\n",
            "Image shape (192, 192, 3), 192x192 px, class=4 (    tulips, [0. 0. 0. 0. 1.])\n",
            "Image shape (192, 192, 3), 192x192 px, class=0 (     daisy, [1. 0. 0. 0. 0.])\n",
            "Image shape (192, 192, 3), 192x192 px, class=1 ( dandelion, [0. 1. 0. 0. 0.])\n",
            "Image shape (192, 192, 3), 192x192 px, class=3 (sunflowers, [0. 0. 0. 1. 0.])\n",
            "Image shape (192, 192, 3), 192x192 px, class=4 (    tulips, [0. 0. 0. 0. 1.])\n",
            "Image shape (192, 192, 3), 192x192 px, class=3 (sunflowers, [0. 0. 0. 1. 0.])\n",
            "Image shape (192, 192, 3), 192x192 px, class=0 (     daisy, [1. 0. 0. 0. 0.])\n",
            "Image shape (192, 192, 3), 192x192 px, class=1 ( dandelion, [0. 1. 0. 0. 0.])\n",
            "Image shape (192, 192, 3), 192x192 px, class=2 (     roses, [0. 0. 1. 0. 0.])\n",
            "Image shape (192, 192, 3), 192x192 px, class=3 (sunflowers, [0. 0. 0. 1. 0.])\n",
            "Image shape (192, 192, 3), 192x192 px, class=2 (     roses, [0. 0. 1. 0. 0.])\n",
            "Image shape (192, 192, 3), 192x192 px, class=1 ( dandelion, [0. 1. 0. 0. 0.])\n",
            "Image shape (192, 192, 3), 192x192 px, class=4 (    tulips, [0. 0. 0. 0. 1.])\n",
            "Image shape (192, 192, 3), 192x192 px, class=3 (sunflowers, [0. 0. 0. 1. 0.])\n",
            "Image shape (192, 192, 3), 192x192 px, class=2 (     roses, [0. 0. 1. 0. 0.])\n",
            "Image shape (192, 192, 3), 192x192 px, class=1 ( dandelion, [0. 1. 0. 0. 0.])\n",
            "Image shape (192, 192, 3), 192x192 px, class=1 ( dandelion, [0. 1. 0. 0. 0.])\n",
            "Image shape (192, 192, 3), 192x192 px, class=2 (     roses, [0. 0. 1. 0. 0.])\n",
            "Image shape (192, 192, 3), 192x192 px, class=3 (sunflowers, [0. 0. 0. 1. 0.])\n",
            "Image shape (192, 192, 3), 192x192 px, class=3 (sunflowers, [0. 0. 0. 1. 0.])\n",
            "Image shape (192, 192, 3), 192x192 px, class=2 (     roses, [0. 0. 1. 0. 0.])\n",
            "Image shape (192, 192, 3), 192x192 px, class=2 (     roses, [0. 0. 1. 0. 0.])\n",
            "Image shape (192, 192, 3), 192x192 px, class=3 (sunflowers, [0. 0. 0. 1. 0.])\n",
            "Image shape (192, 192, 3), 192x192 px, class=1 ( dandelion, [0. 1. 0. 0. 0.])\n",
            "Image shape (192, 192, 3), 192x192 px, class=1 ( dandelion, [0. 1. 0. 0. 0.])\n",
            "Image shape (192, 192, 3), 192x192 px, class=3 (sunflowers, [0. 0. 0. 1. 0.])\n",
            "Image shape (192, 192, 3), 192x192 px, class=1 ( dandelion, [0. 1. 0. 0. 0.])\n",
            "Image shape (192, 192, 3), 192x192 px, class=1 ( dandelion, [0. 1. 0. 0. 0.])\n",
            "Image shape (192, 192, 3), 192x192 px, class=3 (sunflowers, [0. 0. 0. 1. 0.])\n",
            "Image shape (192, 192, 3), 192x192 px, class=1 ( dandelion, [0. 1. 0. 0. 0.])\n",
            "Image shape (192, 192, 3), 192x192 px, class=0 (     daisy, [1. 0. 0. 0. 0.])\n",
            "Image shape (192, 192, 3), 192x192 px, class=0 (     daisy, [1. 0. 0. 0. 0.])\n",
            "Image shape (192, 192, 3), 192x192 px, class=0 (     daisy, [1. 0. 0. 0. 0.])\n",
            "Image shape (192, 192, 3), 192x192 px, class=2 (     roses, [0. 0. 1. 0. 0.])\n",
            "Image shape (192, 192, 3), 192x192 px, class=3 (sunflowers, [0. 0. 0. 1. 0.])\n",
            "Image shape (192, 192, 3), 192x192 px, class=2 (     roses, [0. 0. 1. 0. 0.])\n",
            "Image shape (192, 192, 3), 192x192 px, class=2 (     roses, [0. 0. 1. 0. 0.])\n",
            "Image shape (192, 192, 3), 192x192 px, class=0 (     daisy, [1. 0. 0. 0. 0.])\n",
            "Image shape (192, 192, 3), 192x192 px, class=3 (sunflowers, [0. 0. 0. 1. 0.])\n",
            "Image shape (192, 192, 3), 192x192 px, class=2 (     roses, [0. 0. 1. 0. 0.])\n",
            "Image shape (192, 192, 3), 192x192 px, class=4 (    tulips, [0. 0. 0. 0. 1.])\n",
            "Image shape (192, 192, 3), 192x192 px, class=4 (    tulips, [0. 0. 0. 0. 1.])\n",
            "Image shape (192, 192, 3), 192x192 px, class=4 (    tulips, [0. 0. 0. 0. 1.])\n",
            "Image shape (192, 192, 3), 192x192 px, class=4 (    tulips, [0. 0. 0. 0. 1.])\n",
            "Image shape (192, 192, 3), 192x192 px, class=1 ( dandelion, [0. 1. 0. 0. 0.])\n",
            "Image shape (192, 192, 3), 192x192 px, class=1 ( dandelion, [0. 1. 0. 0. 0.])\n",
            "Image shape (192, 192, 3), 192x192 px, class=1 ( dandelion, [0. 1. 0. 0. 0.])\n",
            "Image shape (192, 192, 3), 192x192 px, class=0 (     daisy, [1. 0. 0. 0. 0.])\n",
            "Image shape (192, 192, 3), 192x192 px, class=3 (sunflowers, [0. 0. 0. 1. 0.])\n",
            "Image shape (192, 192, 3), 192x192 px, class=0 (     daisy, [1. 0. 0. 0. 0.])\n",
            "Image shape (192, 192, 3), 192x192 px, class=2 (     roses, [0. 0. 1. 0. 0.])\n",
            "Image shape (192, 192, 3), 192x192 px, class=4 (    tulips, [0. 0. 0. 0. 1.])\n",
            "Image shape (192, 192, 3), 192x192 px, class=1 ( dandelion, [0. 1. 0. 0. 0.])\n",
            "Image shape (192, 192, 3), 192x192 px, class=4 (    tulips, [0. 0. 0. 0. 1.])\n",
            "Image shape (192, 192, 3), 192x192 px, class=1 ( dandelion, [0. 1. 0. 0. 0.])\n",
            "Image shape (192, 192, 3), 192x192 px, class=2 (     roses, [0. 0. 1. 0. 0.])\n",
            "Image shape (192, 192, 3), 192x192 px, class=3 (sunflowers, [0. 0. 0. 1. 0.])\n",
            "Image shape (192, 192, 3), 192x192 px, class=3 (sunflowers, [0. 0. 0. 1. 0.])\n",
            "Image shape (192, 192, 3), 192x192 px, class=4 (    tulips, [0. 0. 0. 0. 1.])\n",
            "Image shape (192, 192, 3), 192x192 px, class=1 ( dandelion, [0. 1. 0. 0. 0.])\n",
            "Image shape (192, 192, 3), 192x192 px, class=0 (     daisy, [1. 0. 0. 0. 0.])\n",
            "Image shape (192, 192, 3), 192x192 px, class=0 (     daisy, [1. 0. 0. 0. 0.])\n",
            "Image shape (192, 192, 3), 192x192 px, class=0 (     daisy, [1. 0. 0. 0. 0.])\n",
            "Image shape (192, 192, 3), 192x192 px, class=4 (    tulips, [0. 0. 0. 0. 1.])\n",
            "Image shape (192, 192, 3), 192x192 px, class=2 (     roses, [0. 0. 1. 0. 0.])\n",
            "Image shape (192, 192, 3), 192x192 px, class=1 ( dandelion, [0. 1. 0. 0. 0.])\n",
            "Image shape (192, 192, 3), 192x192 px, class=1 ( dandelion, [0. 1. 0. 0. 0.])\n",
            "Image shape (192, 192, 3), 192x192 px, class=2 (     roses, [0. 0. 1. 0. 0.])\n",
            "Image shape (192, 192, 3), 192x192 px, class=0 (     daisy, [1. 0. 0. 0. 0.])\n",
            "Image shape (192, 192, 3), 192x192 px, class=0 (     daisy, [1. 0. 0. 0. 0.])\n",
            "Image shape (192, 192, 3), 192x192 px, class=2 (     roses, [0. 0. 1. 0. 0.])\n",
            "Image shape (192, 192, 3), 192x192 px, class=4 (    tulips, [0. 0. 0. 0. 1.])\n",
            "Image shape (192, 192, 3), 192x192 px, class=1 ( dandelion, [0. 1. 0. 0. 0.])\n",
            "Image shape (192, 192, 3), 192x192 px, class=1 ( dandelion, [0. 1. 0. 0. 0.])\n",
            "Image shape (192, 192, 3), 192x192 px, class=0 (     daisy, [1. 0. 0. 0. 0.])\n",
            "Image shape (192, 192, 3), 192x192 px, class=4 (    tulips, [0. 0. 0. 0. 1.])\n",
            "Image shape (192, 192, 3), 192x192 px, class=4 (    tulips, [0. 0. 0. 0. 1.])\n",
            "Image shape (192, 192, 3), 192x192 px, class=2 (     roses, [0. 0. 1. 0. 0.])\n",
            "Image shape (192, 192, 3), 192x192 px, class=4 (    tulips, [0. 0. 0. 0. 1.])\n",
            "Image shape (192, 192, 3), 192x192 px, class=3 (sunflowers, [0. 0. 0. 1. 0.])\n",
            "Image shape (192, 192, 3), 192x192 px, class=2 (     roses, [0. 0. 1. 0. 0.])\n",
            "Image shape (192, 192, 3), 192x192 px, class=3 (sunflowers, [0. 0. 0. 1. 0.])\n",
            "Image shape (192, 192, 3), 192x192 px, class=1 ( dandelion, [0. 1. 0. 0. 0.])\n",
            "Image shape (192, 192, 3), 192x192 px, class=0 (     daisy, [1. 0. 0. 0. 0.])\n",
            "Image shape (192, 192, 3), 192x192 px, class=4 (    tulips, [0. 0. 0. 0. 1.])\n",
            "Image shape (192, 192, 3), 192x192 px, class=3 (sunflowers, [0. 0. 0. 1. 0.])\n",
            "Image shape (192, 192, 3), 192x192 px, class=1 ( dandelion, [0. 1. 0. 0. 0.])\n",
            "Image shape (192, 192, 3), 192x192 px, class=3 (sunflowers, [0. 0. 0. 1. 0.])\n",
            "Image shape (192, 192, 3), 192x192 px, class=4 (    tulips, [0. 0. 0. 0. 1.])\n",
            "Image shape (192, 192, 3), 192x192 px, class=2 (     roses, [0. 0. 1. 0. 0.])\n",
            "Image shape (192, 192, 3), 192x192 px, class=4 (    tulips, [0. 0. 0. 0. 1.])\n",
            "Image shape (192, 192, 3), 192x192 px, class=4 (    tulips, [0. 0. 0. 0. 1.])\n",
            "Image shape (192, 192, 3), 192x192 px, class=2 (     roses, [0. 0. 1. 0. 0.])\n",
            "Image shape (192, 192, 3), 192x192 px, class=2 (     roses, [0. 0. 1. 0. 0.])\n",
            "Image shape (192, 192, 3), 192x192 px, class=2 (     roses, [0. 0. 1. 0. 0.])\n",
            "Image shape (192, 192, 3), 192x192 px, class=1 ( dandelion, [0. 1. 0. 0. 0.])\n",
            "Image shape (192, 192, 3), 192x192 px, class=4 (    tulips, [0. 0. 0. 0. 1.])\n",
            "Image shape (192, 192, 3), 192x192 px, class=3 (sunflowers, [0. 0. 0. 1. 0.])\n",
            "Image shape (192, 192, 3), 192x192 px, class=3 (sunflowers, [0. 0. 0. 1. 0.])\n",
            "Image shape (192, 192, 3), 192x192 px, class=2 (     roses, [0. 0. 1. 0. 0.])\n",
            "Image shape (192, 192, 3), 192x192 px, class=1 ( dandelion, [0. 1. 0. 0. 0.])\n",
            "Image shape (192, 192, 3), 192x192 px, class=1 ( dandelion, [0. 1. 0. 0. 0.])\n",
            "Image shape (192, 192, 3), 192x192 px, class=3 (sunflowers, [0. 0. 0. 1. 0.])\n",
            "Image shape (192, 192, 3), 192x192 px, class=3 (sunflowers, [0. 0. 0. 1. 0.])\n",
            "Image shape (192, 192, 3), 192x192 px, class=2 (     roses, [0. 0. 1. 0. 0.])\n",
            "Image shape (192, 192, 3), 192x192 px, class=1 ( dandelion, [0. 1. 0. 0. 0.])\n",
            "Image shape (192, 192, 3), 192x192 px, class=3 (sunflowers, [0. 0. 0. 1. 0.])\n",
            "Image shape (192, 192, 3), 192x192 px, class=1 ( dandelion, [0. 1. 0. 0. 0.])\n",
            "Image shape (192, 192, 3), 192x192 px, class=1 ( dandelion, [0. 1. 0. 0. 0.])\n",
            "Image shape (192, 192, 3), 192x192 px, class=2 (     roses, [0. 0. 1. 0. 0.])\n",
            "Image shape (192, 192, 3), 192x192 px, class=1 ( dandelion, [0. 1. 0. 0. 0.])\n",
            "Image shape (192, 192, 3), 192x192 px, class=2 (     roses, [0. 0. 1. 0. 0.])\n",
            "Image shape (192, 192, 3), 192x192 px, class=0 (     daisy, [1. 0. 0. 0. 0.])\n",
            "Image shape (192, 192, 3), 192x192 px, class=0 (     daisy, [1. 0. 0. 0. 0.])\n",
            "Image shape (192, 192, 3), 192x192 px, class=1 ( dandelion, [0. 1. 0. 0. 0.])\n",
            "Image shape (192, 192, 3), 192x192 px, class=3 (sunflowers, [0. 0. 0. 1. 0.])\n",
            "Image shape (192, 192, 3), 192x192 px, class=3 (sunflowers, [0. 0. 0. 1. 0.])\n",
            "Image shape (192, 192, 3), 192x192 px, class=3 (sunflowers, [0. 0. 0. 1. 0.])\n",
            "Image shape (192, 192, 3), 192x192 px, class=1 ( dandelion, [0. 1. 0. 0. 0.])\n",
            "Image shape (192, 192, 3), 192x192 px, class=0 (     daisy, [1. 0. 0. 0. 0.])\n",
            "Image shape (192, 192, 3), 192x192 px, class=4 (    tulips, [0. 0. 0. 0. 1.])\n",
            "Image shape (192, 192, 3), 192x192 px, class=4 (    tulips, [0. 0. 0. 0. 1.])\n",
            "Image shape (192, 192, 3), 192x192 px, class=3 (sunflowers, [0. 0. 0. 1. 0.])\n",
            "Image shape (192, 192, 3), 192x192 px, class=1 ( dandelion, [0. 1. 0. 0. 0.])\n",
            "Image shape (192, 192, 3), 192x192 px, class=1 ( dandelion, [0. 1. 0. 0. 0.])\n",
            "Image shape (192, 192, 3), 192x192 px, class=0 (     daisy, [1. 0. 0. 0. 0.])\n",
            "Image shape (192, 192, 3), 192x192 px, class=3 (sunflowers, [0. 0. 0. 1. 0.])\n",
            "Image shape (192, 192, 3), 192x192 px, class=0 (     daisy, [1. 0. 0. 0. 0.])\n",
            "Image shape (192, 192, 3), 192x192 px, class=4 (    tulips, [0. 0. 0. 0. 1.])\n",
            "Image shape (192, 192, 3), 192x192 px, class=3 (sunflowers, [0. 0. 0. 1. 0.])\n",
            "Image shape (192, 192, 3), 192x192 px, class=3 (sunflowers, [0. 0. 0. 1. 0.])\n",
            "Image shape (192, 192, 3), 192x192 px, class=1 ( dandelion, [0. 1. 0. 0. 0.])\n",
            "Image shape (192, 192, 3), 192x192 px, class=4 (    tulips, [0. 0. 0. 0. 1.])\n",
            "Image shape (192, 192, 3), 192x192 px, class=3 (sunflowers, [0. 0. 0. 1. 0.])\n",
            "Image shape (192, 192, 3), 192x192 px, class=3 (sunflowers, [0. 0. 0. 1. 0.])\n",
            "Image shape (192, 192, 3), 192x192 px, class=4 (    tulips, [0. 0. 0. 0. 1.])\n",
            "Image shape (192, 192, 3), 192x192 px, class=4 (    tulips, [0. 0. 0. 0. 1.])\n",
            "Image shape (192, 192, 3), 192x192 px, class=1 ( dandelion, [0. 1. 0. 0. 0.])\n",
            "Image shape (192, 192, 3), 192x192 px, class=1 ( dandelion, [0. 1. 0. 0. 0.])\n",
            "Image shape (192, 192, 3), 192x192 px, class=1 ( dandelion, [0. 1. 0. 0. 0.])\n",
            "Image shape (192, 192, 3), 192x192 px, class=1 ( dandelion, [0. 1. 0. 0. 0.])\n",
            "Image shape (192, 192, 3), 192x192 px, class=0 (     daisy, [1. 0. 0. 0. 0.])\n",
            "Image shape (192, 192, 3), 192x192 px, class=2 (     roses, [0. 0. 1. 0. 0.])\n",
            "Image shape (192, 192, 3), 192x192 px, class=1 ( dandelion, [0. 1. 0. 0. 0.])\n",
            "Image shape (192, 192, 3), 192x192 px, class=4 (    tulips, [0. 0. 0. 0. 1.])\n",
            "Image shape (192, 192, 3), 192x192 px, class=2 (     roses, [0. 0. 1. 0. 0.])\n",
            "Image shape (192, 192, 3), 192x192 px, class=1 ( dandelion, [0. 1. 0. 0. 0.])\n",
            "Image shape (192, 192, 3), 192x192 px, class=4 (    tulips, [0. 0. 0. 0. 1.])\n",
            "Image shape (192, 192, 3), 192x192 px, class=3 (sunflowers, [0. 0. 0. 1. 0.])\n",
            "Image shape (192, 192, 3), 192x192 px, class=4 (    tulips, [0. 0. 0. 0. 1.])\n",
            "Image shape (192, 192, 3), 192x192 px, class=2 (     roses, [0. 0. 1. 0. 0.])\n",
            "Image shape (192, 192, 3), 192x192 px, class=1 ( dandelion, [0. 1. 0. 0. 0.])\n",
            "Image shape (192, 192, 3), 192x192 px, class=2 (     roses, [0. 0. 1. 0. 0.])\n",
            "Image shape (192, 192, 3), 192x192 px, class=0 (     daisy, [1. 0. 0. 0. 0.])\n",
            "Image shape (192, 192, 3), 192x192 px, class=2 (     roses, [0. 0. 1. 0. 0.])\n",
            "Image shape (192, 192, 3), 192x192 px, class=4 (    tulips, [0. 0. 0. 0. 1.])\n",
            "Image shape (192, 192, 3), 192x192 px, class=2 (     roses, [0. 0. 1. 0. 0.])\n",
            "Image shape (192, 192, 3), 192x192 px, class=2 (     roses, [0. 0. 1. 0. 0.])\n",
            "Image shape (192, 192, 3), 192x192 px, class=3 (sunflowers, [0. 0. 0. 1. 0.])\n",
            "Image shape (192, 192, 3), 192x192 px, class=4 (    tulips, [0. 0. 0. 0. 1.])\n",
            "Image shape (192, 192, 3), 192x192 px, class=1 ( dandelion, [0. 1. 0. 0. 0.])\n",
            "Image shape (192, 192, 3), 192x192 px, class=1 ( dandelion, [0. 1. 0. 0. 0.])\n",
            "Image shape (192, 192, 3), 192x192 px, class=4 (    tulips, [0. 0. 0. 0. 1.])\n",
            "Image shape (192, 192, 3), 192x192 px, class=4 (    tulips, [0. 0. 0. 0. 1.])\n",
            "Image shape (192, 192, 3), 192x192 px, class=2 (     roses, [0. 0. 1. 0. 0.])\n",
            "Image shape (192, 192, 3), 192x192 px, class=1 ( dandelion, [0. 1. 0. 0. 0.])\n",
            "Image shape (192, 192, 3), 192x192 px, class=3 (sunflowers, [0. 0. 0. 1. 0.])\n",
            "Image shape (192, 192, 3), 192x192 px, class=2 (     roses, [0. 0. 1. 0. 0.])\n",
            "Image shape (192, 192, 3), 192x192 px, class=3 (sunflowers, [0. 0. 0. 1. 0.])\n",
            "Image shape (192, 192, 3), 192x192 px, class=4 (    tulips, [0. 0. 0. 0. 1.])\n",
            "Image shape (192, 192, 3), 192x192 px, class=4 (    tulips, [0. 0. 0. 0. 1.])\n",
            "Image shape (192, 192, 3), 192x192 px, class=4 (    tulips, [0. 0. 0. 0. 1.])\n",
            "Image shape (192, 192, 3), 192x192 px, class=2 (     roses, [0. 0. 1. 0. 0.])\n",
            "Image shape (192, 192, 3), 192x192 px, class=2 (     roses, [0. 0. 1. 0. 0.])\n",
            "Image shape (192, 192, 3), 192x192 px, class=2 (     roses, [0. 0. 1. 0. 0.])\n",
            "Image shape (192, 192, 3), 192x192 px, class=0 (     daisy, [1. 0. 0. 0. 0.])\n",
            "Image shape (192, 192, 3), 192x192 px, class=4 (    tulips, [0. 0. 0. 0. 1.])\n",
            "Image shape (192, 192, 3), 192x192 px, class=1 ( dandelion, [0. 1. 0. 0. 0.])\n",
            "Image shape (192, 192, 3), 192x192 px, class=2 (     roses, [0. 0. 1. 0. 0.])\n",
            "Image shape (192, 192, 3), 192x192 px, class=2 (     roses, [0. 0. 1. 0. 0.])\n",
            "Image shape (192, 192, 3), 192x192 px, class=3 (sunflowers, [0. 0. 0. 1. 0.])\n",
            "Image shape (192, 192, 3), 192x192 px, class=2 (     roses, [0. 0. 1. 0. 0.])\n",
            "Image shape (192, 192, 3), 192x192 px, class=3 (sunflowers, [0. 0. 0. 1. 0.])\n",
            "Image shape (192, 192, 3), 192x192 px, class=3 (sunflowers, [0. 0. 0. 1. 0.])\n",
            "Image shape (192, 192, 3), 192x192 px, class=3 (sunflowers, [0. 0. 0. 1. 0.])\n",
            "Image shape (192, 192, 3), 192x192 px, class=1 ( dandelion, [0. 1. 0. 0. 0.])\n",
            "Image shape (192, 192, 3), 192x192 px, class=2 (     roses, [0. 0. 1. 0. 0.])\n",
            "Image shape (192, 192, 3), 192x192 px, class=0 (     daisy, [1. 0. 0. 0. 0.])\n",
            "Image shape (192, 192, 3), 192x192 px, class=4 (    tulips, [0. 0. 0. 0. 1.])\n",
            "Image shape (192, 192, 3), 192x192 px, class=1 ( dandelion, [0. 1. 0. 0. 0.])\n",
            "Image shape (192, 192, 3), 192x192 px, class=1 ( dandelion, [0. 1. 0. 0. 0.])\n",
            "Image shape (192, 192, 3), 192x192 px, class=3 (sunflowers, [0. 0. 0. 1. 0.])\n",
            "Image shape (192, 192, 3), 192x192 px, class=2 (     roses, [0. 0. 1. 0. 0.])\n",
            "Image shape (192, 192, 3), 192x192 px, class=1 ( dandelion, [0. 1. 0. 0. 0.])\n",
            "Image shape (192, 192, 3), 192x192 px, class=4 (    tulips, [0. 0. 0. 0. 1.])\n",
            "Image shape (192, 192, 3), 192x192 px, class=1 ( dandelion, [0. 1. 0. 0. 0.])\n",
            "Image shape (192, 192, 3), 192x192 px, class=0 (     daisy, [1. 0. 0. 0. 0.])\n",
            "Image shape (192, 192, 3), 192x192 px, class=2 (     roses, [0. 0. 1. 0. 0.])\n",
            "Image shape (192, 192, 3), 192x192 px, class=1 ( dandelion, [0. 1. 0. 0. 0.])\n",
            "Image shape (192, 192, 3), 192x192 px, class=3 (sunflowers, [0. 0. 0. 1. 0.])\n",
            "Image shape (192, 192, 3), 192x192 px, class=0 (     daisy, [1. 0. 0. 0. 0.])\n",
            "Image shape (192, 192, 3), 192x192 px, class=3 (sunflowers, [0. 0. 0. 1. 0.])\n",
            "Image shape (192, 192, 3), 192x192 px, class=0 (     daisy, [1. 0. 0. 0. 0.])\n",
            "Image shape (192, 192, 3), 192x192 px, class=4 (    tulips, [0. 0. 0. 0. 1.])\n",
            "Image shape (192, 192, 3), 192x192 px, class=1 ( dandelion, [0. 1. 0. 0. 0.])\n",
            "Image shape (192, 192, 3), 192x192 px, class=3 (sunflowers, [0. 0. 0. 1. 0.])\n",
            "Image shape (192, 192, 3), 192x192 px, class=0 (     daisy, [1. 0. 0. 0. 0.])\n",
            "Image shape (192, 192, 3), 192x192 px, class=1 ( dandelion, [0. 1. 0. 0. 0.])\n",
            "Image shape (192, 192, 3), 192x192 px, class=1 ( dandelion, [0. 1. 0. 0. 0.])\n",
            "Image shape (192, 192, 3), 192x192 px, class=1 ( dandelion, [0. 1. 0. 0. 0.])\n",
            "Image shape (192, 192, 3), 192x192 px, class=1 ( dandelion, [0. 1. 0. 0. 0.])\n",
            "Image shape (192, 192, 3), 192x192 px, class=0 (     daisy, [1. 0. 0. 0. 0.])\n",
            "Image shape (192, 192, 3), 192x192 px, class=4 (    tulips, [0. 0. 0. 0. 1.])\n",
            "Image shape (192, 192, 3), 192x192 px, class=0 (     daisy, [1. 0. 0. 0. 0.])\n",
            "Image shape (192, 192, 3), 192x192 px, class=4 (    tulips, [0. 0. 0. 0. 1.])\n",
            "Image shape (192, 192, 3), 192x192 px, class=0 (     daisy, [1. 0. 0. 0. 0.])\n",
            "Image shape (192, 192, 3), 192x192 px, class=4 (    tulips, [0. 0. 0. 0. 1.])\n",
            "Image shape (192, 192, 3), 192x192 px, class=2 (     roses, [0. 0. 1. 0. 0.])\n",
            "Image shape (192, 192, 3), 192x192 px, class=3 (sunflowers, [0. 0. 0. 1. 0.])\n",
            "Image shape (192, 192, 3), 192x192 px, class=1 ( dandelion, [0. 1. 0. 0. 0.])\n",
            "Image shape (192, 192, 3), 192x192 px, class=0 (     daisy, [1. 0. 0. 0. 0.])\n",
            "Image shape (192, 192, 3), 192x192 px, class=1 ( dandelion, [0. 1. 0. 0. 0.])\n",
            "Image shape (192, 192, 3), 192x192 px, class=4 (    tulips, [0. 0. 0. 0. 1.])\n",
            "Image shape (192, 192, 3), 192x192 px, class=1 ( dandelion, [0. 1. 0. 0. 0.])\n",
            "Image shape (192, 192, 3), 192x192 px, class=1 ( dandelion, [0. 1. 0. 0. 0.])\n",
            "Image shape (192, 192, 3), 192x192 px, class=2 (     roses, [0. 0. 1. 0. 0.])\n",
            "Image shape (192, 192, 3), 192x192 px, class=3 (sunflowers, [0. 0. 0. 1. 0.])\n",
            "Image shape (192, 192, 3), 192x192 px, class=2 (     roses, [0. 0. 1. 0. 0.])\n",
            "Image shape (192, 192, 3), 192x192 px, class=0 (     daisy, [1. 0. 0. 0. 0.])\n",
            "Image shape (192, 192, 3), 192x192 px, class=0 (     daisy, [1. 0. 0. 0. 0.])\n",
            "Image shape (192, 192, 3), 192x192 px, class=4 (    tulips, [0. 0. 0. 0. 1.])\n",
            "Image shape (192, 192, 3), 192x192 px, class=3 (sunflowers, [0. 0. 0. 1. 0.])\n",
            "Image shape (192, 192, 3), 192x192 px, class=4 (    tulips, [0. 0. 0. 0. 1.])\n",
            "Image shape (192, 192, 3), 192x192 px, class=1 ( dandelion, [0. 1. 0. 0. 0.])\n",
            "Image shape (192, 192, 3), 192x192 px, class=1 ( dandelion, [0. 1. 0. 0. 0.])\n",
            "Image shape (192, 192, 3), 192x192 px, class=1 ( dandelion, [0. 1. 0. 0. 0.])\n",
            "Image shape (192, 192, 3), 192x192 px, class=2 (     roses, [0. 0. 1. 0. 0.])\n",
            "Image shape (192, 192, 3), 192x192 px, class=2 (     roses, [0. 0. 1. 0. 0.])\n",
            "Image shape (192, 192, 3), 192x192 px, class=0 (     daisy, [1. 0. 0. 0. 0.])\n",
            "Image shape (192, 192, 3), 192x192 px, class=0 (     daisy, [1. 0. 0. 0. 0.])\n",
            "Image shape (192, 192, 3), 192x192 px, class=4 (    tulips, [0. 0. 0. 0. 1.])\n",
            "Image shape (192, 192, 3), 192x192 px, class=0 (     daisy, [1. 0. 0. 0. 0.])\n",
            "Image shape (192, 192, 3), 192x192 px, class=1 ( dandelion, [0. 1. 0. 0. 0.])\n",
            "Image shape (192, 192, 3), 192x192 px, class=0 (     daisy, [1. 0. 0. 0. 0.])\n",
            "Image shape (192, 192, 3), 192x192 px, class=4 (    tulips, [0. 0. 0. 0. 1.])\n",
            "Image shape (192, 192, 3), 192x192 px, class=2 (     roses, [0. 0. 1. 0. 0.])\n",
            "Image shape (192, 192, 3), 192x192 px, class=2 (     roses, [0. 0. 1. 0. 0.])\n",
            "Image shape (192, 192, 3), 192x192 px, class=2 (     roses, [0. 0. 1. 0. 0.])\n",
            "Image shape (192, 192, 3), 192x192 px, class=0 (     daisy, [1. 0. 0. 0. 0.])\n",
            "Image shape (192, 192, 3), 192x192 px, class=2 (     roses, [0. 0. 1. 0. 0.])\n",
            "Image shape (192, 192, 3), 192x192 px, class=3 (sunflowers, [0. 0. 0. 1. 0.])\n",
            "Image shape (192, 192, 3), 192x192 px, class=0 (     daisy, [1. 0. 0. 0. 0.])\n",
            "Image shape (192, 192, 3), 192x192 px, class=3 (sunflowers, [0. 0. 0. 1. 0.])\n",
            "Image shape (192, 192, 3), 192x192 px, class=2 (     roses, [0. 0. 1. 0. 0.])\n",
            "Image shape (192, 192, 3), 192x192 px, class=0 (     daisy, [1. 0. 0. 0. 0.])\n",
            "Image shape (192, 192, 3), 192x192 px, class=3 (sunflowers, [0. 0. 0. 1. 0.])\n",
            "Image shape (192, 192, 3), 192x192 px, class=0 (     daisy, [1. 0. 0. 0. 0.])\n",
            "Image shape (192, 192, 3), 192x192 px, class=0 (     daisy, [1. 0. 0. 0. 0.])\n",
            "Image shape (192, 192, 3), 192x192 px, class=1 ( dandelion, [0. 1. 0. 0. 0.])\n",
            "Image shape (192, 192, 3), 192x192 px, class=0 (     daisy, [1. 0. 0. 0. 0.])\n",
            "Image shape (192, 192, 3), 192x192 px, class=0 (     daisy, [1. 0. 0. 0. 0.])\n",
            "Image shape (192, 192, 3), 192x192 px, class=2 (     roses, [0. 0. 1. 0. 0.])\n",
            "Image shape (192, 192, 3), 192x192 px, class=3 (sunflowers, [0. 0. 0. 1. 0.])\n",
            "Image shape (192, 192, 3), 192x192 px, class=1 ( dandelion, [0. 1. 0. 0. 0.])\n",
            "Image shape (192, 192, 3), 192x192 px, class=1 ( dandelion, [0. 1. 0. 0. 0.])\n",
            "Image shape (192, 192, 3), 192x192 px, class=1 ( dandelion, [0. 1. 0. 0. 0.])\n",
            "Image shape (192, 192, 3), 192x192 px, class=1 ( dandelion, [0. 1. 0. 0. 0.])\n"
          ]
        }
      ]
    },
    {
      "cell_type": "code",
      "source": [
        "\n",
        "try: \n",
        "  tpu = tf.distribute.cluster_resolver.TPUClusterResolver.connect() \n",
        "  strategy = tf.distribute.TPUStrategy(tpu)\n",
        "except ValueError: \n",
        "  strategy = tf.distribute.MirroredStrategy() \n",
        "print(\"Number of accelerators: \", strategy.num_replicas_in_sync)"
      ],
      "metadata": {
        "colab": {
          "base_uri": "https://localhost:8080/"
        },
        "id": "bkXCNlsQDmLL",
        "outputId": "08c9594c-e820-4faa-af64-b2e525b32a7f"
      },
      "execution_count": 40,
      "outputs": [
        {
          "output_type": "stream",
          "name": "stdout",
          "text": [
            "INFO:tensorflow:Deallocate tpu buffers before initializing tpu system.\n"
          ]
        },
        {
          "output_type": "stream",
          "name": "stderr",
          "text": [
            "INFO:tensorflow:Deallocate tpu buffers before initializing tpu system.\n"
          ]
        },
        {
          "output_type": "stream",
          "name": "stdout",
          "text": [
            "WARNING:tensorflow:TPU system grpc://10.14.110.18:8470 has already been initialized. Reinitializing the TPU can cause previously created variables on TPU to be lost.\n"
          ]
        },
        {
          "output_type": "stream",
          "name": "stderr",
          "text": [
            "WARNING:tensorflow:TPU system grpc://10.14.110.18:8470 has already been initialized. Reinitializing the TPU can cause previously created variables on TPU to be lost.\n"
          ]
        },
        {
          "output_type": "stream",
          "name": "stdout",
          "text": [
            "INFO:tensorflow:Initializing the TPU system: grpc://10.14.110.18:8470\n"
          ]
        },
        {
          "output_type": "stream",
          "name": "stderr",
          "text": [
            "INFO:tensorflow:Initializing the TPU system: grpc://10.14.110.18:8470\n"
          ]
        },
        {
          "output_type": "stream",
          "name": "stdout",
          "text": [
            "INFO:tensorflow:Finished initializing TPU system.\n"
          ]
        },
        {
          "output_type": "stream",
          "name": "stderr",
          "text": [
            "INFO:tensorflow:Finished initializing TPU system.\n"
          ]
        },
        {
          "output_type": "stream",
          "name": "stdout",
          "text": [
            "INFO:tensorflow:Found TPU system:\n"
          ]
        },
        {
          "output_type": "stream",
          "name": "stderr",
          "text": [
            "INFO:tensorflow:Found TPU system:\n"
          ]
        },
        {
          "output_type": "stream",
          "name": "stdout",
          "text": [
            "INFO:tensorflow:*** Num TPU Cores: 8\n"
          ]
        },
        {
          "output_type": "stream",
          "name": "stderr",
          "text": [
            "INFO:tensorflow:*** Num TPU Cores: 8\n"
          ]
        },
        {
          "output_type": "stream",
          "name": "stdout",
          "text": [
            "INFO:tensorflow:*** Num TPU Workers: 1\n"
          ]
        },
        {
          "output_type": "stream",
          "name": "stderr",
          "text": [
            "INFO:tensorflow:*** Num TPU Workers: 1\n"
          ]
        },
        {
          "output_type": "stream",
          "name": "stdout",
          "text": [
            "INFO:tensorflow:*** Num TPU Cores Per Worker: 8\n"
          ]
        },
        {
          "output_type": "stream",
          "name": "stderr",
          "text": [
            "INFO:tensorflow:*** Num TPU Cores Per Worker: 8\n"
          ]
        },
        {
          "output_type": "stream",
          "name": "stdout",
          "text": [
            "INFO:tensorflow:*** Available Device: _DeviceAttributes(/job:localhost/replica:0/task:0/device:CPU:0, CPU, 0, 0)\n"
          ]
        },
        {
          "output_type": "stream",
          "name": "stderr",
          "text": [
            "INFO:tensorflow:*** Available Device: _DeviceAttributes(/job:localhost/replica:0/task:0/device:CPU:0, CPU, 0, 0)\n"
          ]
        },
        {
          "output_type": "stream",
          "name": "stdout",
          "text": [
            "INFO:tensorflow:*** Available Device: _DeviceAttributes(/job:worker/replica:0/task:0/device:CPU:0, CPU, 0, 0)\n"
          ]
        },
        {
          "output_type": "stream",
          "name": "stderr",
          "text": [
            "INFO:tensorflow:*** Available Device: _DeviceAttributes(/job:worker/replica:0/task:0/device:CPU:0, CPU, 0, 0)\n"
          ]
        },
        {
          "output_type": "stream",
          "name": "stdout",
          "text": [
            "INFO:tensorflow:*** Available Device: _DeviceAttributes(/job:worker/replica:0/task:0/device:TPU:0, TPU, 0, 0)\n"
          ]
        },
        {
          "output_type": "stream",
          "name": "stderr",
          "text": [
            "INFO:tensorflow:*** Available Device: _DeviceAttributes(/job:worker/replica:0/task:0/device:TPU:0, TPU, 0, 0)\n"
          ]
        },
        {
          "output_type": "stream",
          "name": "stdout",
          "text": [
            "INFO:tensorflow:*** Available Device: _DeviceAttributes(/job:worker/replica:0/task:0/device:TPU:1, TPU, 0, 0)\n"
          ]
        },
        {
          "output_type": "stream",
          "name": "stderr",
          "text": [
            "INFO:tensorflow:*** Available Device: _DeviceAttributes(/job:worker/replica:0/task:0/device:TPU:1, TPU, 0, 0)\n"
          ]
        },
        {
          "output_type": "stream",
          "name": "stdout",
          "text": [
            "INFO:tensorflow:*** Available Device: _DeviceAttributes(/job:worker/replica:0/task:0/device:TPU:2, TPU, 0, 0)\n"
          ]
        },
        {
          "output_type": "stream",
          "name": "stderr",
          "text": [
            "INFO:tensorflow:*** Available Device: _DeviceAttributes(/job:worker/replica:0/task:0/device:TPU:2, TPU, 0, 0)\n"
          ]
        },
        {
          "output_type": "stream",
          "name": "stdout",
          "text": [
            "INFO:tensorflow:*** Available Device: _DeviceAttributes(/job:worker/replica:0/task:0/device:TPU:3, TPU, 0, 0)\n"
          ]
        },
        {
          "output_type": "stream",
          "name": "stderr",
          "text": [
            "INFO:tensorflow:*** Available Device: _DeviceAttributes(/job:worker/replica:0/task:0/device:TPU:3, TPU, 0, 0)\n"
          ]
        },
        {
          "output_type": "stream",
          "name": "stdout",
          "text": [
            "INFO:tensorflow:*** Available Device: _DeviceAttributes(/job:worker/replica:0/task:0/device:TPU:4, TPU, 0, 0)\n"
          ]
        },
        {
          "output_type": "stream",
          "name": "stderr",
          "text": [
            "INFO:tensorflow:*** Available Device: _DeviceAttributes(/job:worker/replica:0/task:0/device:TPU:4, TPU, 0, 0)\n"
          ]
        },
        {
          "output_type": "stream",
          "name": "stdout",
          "text": [
            "INFO:tensorflow:*** Available Device: _DeviceAttributes(/job:worker/replica:0/task:0/device:TPU:5, TPU, 0, 0)\n"
          ]
        },
        {
          "output_type": "stream",
          "name": "stderr",
          "text": [
            "INFO:tensorflow:*** Available Device: _DeviceAttributes(/job:worker/replica:0/task:0/device:TPU:5, TPU, 0, 0)\n"
          ]
        },
        {
          "output_type": "stream",
          "name": "stdout",
          "text": [
            "INFO:tensorflow:*** Available Device: _DeviceAttributes(/job:worker/replica:0/task:0/device:TPU:6, TPU, 0, 0)\n"
          ]
        },
        {
          "output_type": "stream",
          "name": "stderr",
          "text": [
            "INFO:tensorflow:*** Available Device: _DeviceAttributes(/job:worker/replica:0/task:0/device:TPU:6, TPU, 0, 0)\n"
          ]
        },
        {
          "output_type": "stream",
          "name": "stdout",
          "text": [
            "INFO:tensorflow:*** Available Device: _DeviceAttributes(/job:worker/replica:0/task:0/device:TPU:7, TPU, 0, 0)\n"
          ]
        },
        {
          "output_type": "stream",
          "name": "stderr",
          "text": [
            "INFO:tensorflow:*** Available Device: _DeviceAttributes(/job:worker/replica:0/task:0/device:TPU:7, TPU, 0, 0)\n"
          ]
        },
        {
          "output_type": "stream",
          "name": "stdout",
          "text": [
            "INFO:tensorflow:*** Available Device: _DeviceAttributes(/job:worker/replica:0/task:0/device:TPU_SYSTEM:0, TPU_SYSTEM, 0, 0)\n"
          ]
        },
        {
          "output_type": "stream",
          "name": "stderr",
          "text": [
            "INFO:tensorflow:*** Available Device: _DeviceAttributes(/job:worker/replica:0/task:0/device:TPU_SYSTEM:0, TPU_SYSTEM, 0, 0)\n"
          ]
        },
        {
          "output_type": "stream",
          "name": "stdout",
          "text": [
            "INFO:tensorflow:*** Available Device: _DeviceAttributes(/job:worker/replica:0/task:0/device:XLA_CPU:0, XLA_CPU, 0, 0)\n"
          ]
        },
        {
          "output_type": "stream",
          "name": "stderr",
          "text": [
            "INFO:tensorflow:*** Available Device: _DeviceAttributes(/job:worker/replica:0/task:0/device:XLA_CPU:0, XLA_CPU, 0, 0)\n"
          ]
        },
        {
          "output_type": "stream",
          "name": "stdout",
          "text": [
            "Number of accelerators:  8\n"
          ]
        }
      ]
    },
    {
      "cell_type": "code",
      "source": [
        "GCS_PATTERN = 'gs://nikhil-sanghi-tpu/tfrecords-jpeg-192x192-2/*.tfrec'\n",
        "IMAGE_SIZE = [192, 192]\n",
        "\n",
        "if tpu:\n",
        "  BATCH_SIZE = 16*strategy.num_replicas_in_sync  \n",
        "else:\n",
        "  BATCH_SIZE = 32  \n",
        "\n",
        "\n",
        "VALIDATION_SPLIT = 0.19\n",
        "CLASSES = ['daisy', 'dandelion', 'roses', 'sunflowers', 'tulips'] # do not change, maps to the labels in the data (folder names)\n",
        "\n",
        "# test and train splitting of data\n",
        "filenames = tf.io.gfile.glob(GCS_PATTERN)\n",
        "split = int(len(filenames) * VALIDATION_SPLIT)\n",
        "training_filenames = filenames[split:]\n",
        "validation_filenames = filenames[:split]\n",
        "print(\"Pattern matches {} data files. Splitting dataset into {} training files and {} validation files\".format(len(filenames), len(training_filenames), len(validation_filenames)))\n",
        "validation_steps = int(3670 // len(filenames) * len(validation_filenames)) // BATCH_SIZE\n",
        "steps_per_epoch = int(3670 // len(filenames) * len(training_filenames)) // BATCH_SIZE\n",
        "print(\"With a batch size of {}, there will be {} batches per training epoch and {} batch(es) per validation run.\".format(BATCH_SIZE, steps_per_epoch, validation_steps))"
      ],
      "metadata": {
        "colab": {
          "base_uri": "https://localhost:8080/"
        },
        "id": "yTmnxRx_DfiC",
        "outputId": "31ced139-8c7b-497a-84d6-ae1648ff7a0d"
      },
      "execution_count": 41,
      "outputs": [
        {
          "output_type": "stream",
          "name": "stdout",
          "text": [
            "Pattern matches 16 data files. Splitting dataset into 13 training files and 3 validation files\n",
            "With a batch size of 128, there will be 23 batches per training epoch and 5 batch(es) per validation run.\n"
          ]
        }
      ]
    },
    {
      "cell_type": "code",
      "source": [
        "def read_tfrecord(example):\n",
        "    features = {\n",
        "        \"image\": tf.io.FixedLenFeature([], tf.string), \n",
        "        \"class\": tf.io.FixedLenFeature([], tf.int64),  \n",
        "        \"one_hot_class\": tf.io.VarLenFeature(tf.float32),\n",
        "    }\n",
        "    example = tf.io.parse_single_example(example, features)\n",
        "    image = tf.io.decode_jpeg(example['image'], channels=3)\n",
        "    image = tf.cast(image, tf.float32) / 255.0  \n",
        "    image = tf.reshape(image, [*IMAGE_SIZE, 3]) \n",
        "    one_hot_class = tf.sparse.to_dense(example['one_hot_class'])\n",
        "    one_hot_class = tf.reshape(one_hot_class, [5])\n",
        "    return image, one_hot_class\n",
        "\n",
        "def load_dataset(filenames):\n",
        "  option_no_order = tf.data.Options()\n",
        "  option_no_order.experimental_deterministic = False\n",
        "\n",
        "  dataset = tf.data.TFRecordDataset(filenames, num_parallel_reads=AUTOTUNE)\n",
        "  dataset = dataset.with_options(option_no_order)\n",
        "  dataset = dataset.map(read_tfrecord, num_parallel_calls=AUTOTUNE)\n",
        "  return dataset"
      ],
      "metadata": {
        "id": "lcFK6W3zDPhM"
      },
      "execution_count": 42,
      "outputs": []
    },
    {
      "cell_type": "code",
      "source": [
        "def data_augment(image, one_hot_class):\n",
        "    image = tf.image.random_flip_left_right(image)\n",
        "    image = tf.image.random_saturation(image, 0, 2)\n",
        "    return image, one_hot_class\n",
        "\n",
        "def get_batched_dataset(filenames, train=False):\n",
        "  dataset = load_dataset(filenames)\n",
        "  dataset = dataset.cache() \n",
        "  if train:\n",
        "    \n",
        "    dataset = dataset.repeat()\n",
        "    dataset = dataset.map(data_augment, num_parallel_calls=AUTOTUNE)\n",
        "    dataset = dataset.shuffle(2000)\n",
        "  dataset = dataset.batch(BATCH_SIZE)\n",
        "  dataset = dataset.prefetch(AUTOTUNE) \n",
        "  \n",
        "  return dataset\n",
        "  \n",
        "training_dataset = get_batched_dataset(training_filenames, train=True)\n",
        "validation_dataset = get_batched_dataset(validation_filenames, train=False)\n",
        "\n",
        "some_flowers, some_labels = dataset_to_numpy_util(load_dataset(validation_filenames), 160)"
      ],
      "metadata": {
        "id": "nfmgCml4DPjz"
      },
      "execution_count": 43,
      "outputs": []
    },
    {
      "cell_type": "code",
      "source": [
        "with strategy.scope(): \n",
        "  \n",
        "  bnmomemtum=0.9\n",
        "  def fire(x, squeeze, expand):\n",
        "    y  = tf.keras.layers.Conv2D(filters=squeeze, kernel_size=1, activation='relu', padding='same')(x)\n",
        "    y = tf.keras.layers.BatchNormalization(momentum=bnmomemtum)(y)\n",
        "    y1 = tf.keras.layers.Conv2D(filters=expand//2, kernel_size=1, activation='relu', padding='same')(y)\n",
        "    y1 = tf.keras.layers.BatchNormalization(momentum=bnmomemtum)(y1)\n",
        "    y3 = tf.keras.layers.Conv2D(filters=expand//2, kernel_size=3, activation='relu', padding='same')(y)\n",
        "    y3 = tf.keras.layers.BatchNormalization(momentum=bnmomemtum)(y3)\n",
        "    return tf.keras.layers.concatenate([y1, y3])\n",
        "\n",
        "  def fire_module(squeeze, expand):\n",
        "    return lambda x: fire(x, squeeze, expand)\n",
        "\n",
        "  x = tf.keras.layers.Input(shape=[*IMAGE_SIZE, 3]) \n",
        "\n",
        "  y = tf.keras.layers.Conv2D(kernel_size=3, filters=32, padding='same', use_bias=True, activation='relu')(x)\n",
        "  y = tf.keras.layers.BatchNormalization(momentum=bnmomemtum)(y)\n",
        "  y = fire_module(24, 48)(y)\n",
        "  y = tf.keras.layers.MaxPooling2D(pool_size=2)(y)\n",
        "  y = fire_module(48, 96)(y)\n",
        "  y = tf.keras.layers.MaxPooling2D(pool_size=2)(y)\n",
        "  y = fire_module(64, 128)(y)\n",
        "  y = tf.keras.layers.MaxPooling2D(pool_size=2)(y)\n",
        "  y = fire_module(48, 96)(y)\n",
        "  y = tf.keras.layers.MaxPooling2D(pool_size=2)(y)\n",
        "  y = fire_module(24, 48)(y)\n",
        "  y = tf.keras.layers.GlobalAveragePooling2D()(y)\n",
        "  y = tf.keras.layers.Dense(5, activation='softmax')(y)\n",
        "\n",
        "  model = tf.keras.Model(x, y)\n",
        "\n",
        "  model.compile(\n",
        "    optimizer='adam',\n",
        "    loss= 'categorical_crossentropy',\n",
        "    metrics=['accuracy'],)\n",
        "\n",
        "  model.summary()"
      ],
      "metadata": {
        "id": "cAHaKR5ZDPly",
        "colab": {
          "base_uri": "https://localhost:8080/"
        },
        "outputId": "20c17197-e0d4-4252-b0bf-1520c2eef38b"
      },
      "execution_count": 44,
      "outputs": [
        {
          "output_type": "stream",
          "name": "stdout",
          "text": [
            "Model: \"model_1\"\n",
            "__________________________________________________________________________________________________\n",
            " Layer (type)                   Output Shape         Param #     Connected to                     \n",
            "==================================================================================================\n",
            " input_2 (InputLayer)           [(None, 192, 192, 3  0           []                               \n",
            "                                )]                                                                \n",
            "                                                                                                  \n",
            " conv2d_16 (Conv2D)             (None, 192, 192, 32  896         ['input_2[0][0]']                \n",
            "                                )                                                                 \n",
            "                                                                                                  \n",
            " batch_normalization_16 (BatchN  (None, 192, 192, 32  128        ['conv2d_16[0][0]']              \n",
            " ormalization)                  )                                                                 \n",
            "                                                                                                  \n",
            " conv2d_17 (Conv2D)             (None, 192, 192, 24  792         ['batch_normalization_16[0][0]'] \n",
            "                                )                                                                 \n",
            "                                                                                                  \n",
            " batch_normalization_17 (BatchN  (None, 192, 192, 24  96         ['conv2d_17[0][0]']              \n",
            " ormalization)                  )                                                                 \n",
            "                                                                                                  \n",
            " conv2d_18 (Conv2D)             (None, 192, 192, 24  600         ['batch_normalization_17[0][0]'] \n",
            "                                )                                                                 \n",
            "                                                                                                  \n",
            " conv2d_19 (Conv2D)             (None, 192, 192, 24  5208        ['batch_normalization_17[0][0]'] \n",
            "                                )                                                                 \n",
            "                                                                                                  \n",
            " batch_normalization_18 (BatchN  (None, 192, 192, 24  96         ['conv2d_18[0][0]']              \n",
            " ormalization)                  )                                                                 \n",
            "                                                                                                  \n",
            " batch_normalization_19 (BatchN  (None, 192, 192, 24  96         ['conv2d_19[0][0]']              \n",
            " ormalization)                  )                                                                 \n",
            "                                                                                                  \n",
            " concatenate_5 (Concatenate)    (None, 192, 192, 48  0           ['batch_normalization_18[0][0]', \n",
            "                                )                                 'batch_normalization_19[0][0]'] \n",
            "                                                                                                  \n",
            " max_pooling2d_4 (MaxPooling2D)  (None, 96, 96, 48)  0           ['concatenate_5[0][0]']          \n",
            "                                                                                                  \n",
            " conv2d_20 (Conv2D)             (None, 96, 96, 48)   2352        ['max_pooling2d_4[0][0]']        \n",
            "                                                                                                  \n",
            " batch_normalization_20 (BatchN  (None, 96, 96, 48)  192         ['conv2d_20[0][0]']              \n",
            " ormalization)                                                                                    \n",
            "                                                                                                  \n",
            " conv2d_21 (Conv2D)             (None, 96, 96, 48)   2352        ['batch_normalization_20[0][0]'] \n",
            "                                                                                                  \n",
            " conv2d_22 (Conv2D)             (None, 96, 96, 48)   20784       ['batch_normalization_20[0][0]'] \n",
            "                                                                                                  \n",
            " batch_normalization_21 (BatchN  (None, 96, 96, 48)  192         ['conv2d_21[0][0]']              \n",
            " ormalization)                                                                                    \n",
            "                                                                                                  \n",
            " batch_normalization_22 (BatchN  (None, 96, 96, 48)  192         ['conv2d_22[0][0]']              \n",
            " ormalization)                                                                                    \n",
            "                                                                                                  \n",
            " concatenate_6 (Concatenate)    (None, 96, 96, 96)   0           ['batch_normalization_21[0][0]', \n",
            "                                                                  'batch_normalization_22[0][0]'] \n",
            "                                                                                                  \n",
            " max_pooling2d_5 (MaxPooling2D)  (None, 48, 48, 96)  0           ['concatenate_6[0][0]']          \n",
            "                                                                                                  \n",
            " conv2d_23 (Conv2D)             (None, 48, 48, 64)   6208        ['max_pooling2d_5[0][0]']        \n",
            "                                                                                                  \n",
            " batch_normalization_23 (BatchN  (None, 48, 48, 64)  256         ['conv2d_23[0][0]']              \n",
            " ormalization)                                                                                    \n",
            "                                                                                                  \n",
            " conv2d_24 (Conv2D)             (None, 48, 48, 64)   4160        ['batch_normalization_23[0][0]'] \n",
            "                                                                                                  \n",
            " conv2d_25 (Conv2D)             (None, 48, 48, 64)   36928       ['batch_normalization_23[0][0]'] \n",
            "                                                                                                  \n",
            " batch_normalization_24 (BatchN  (None, 48, 48, 64)  256         ['conv2d_24[0][0]']              \n",
            " ormalization)                                                                                    \n",
            "                                                                                                  \n",
            " batch_normalization_25 (BatchN  (None, 48, 48, 64)  256         ['conv2d_25[0][0]']              \n",
            " ormalization)                                                                                    \n",
            "                                                                                                  \n",
            " concatenate_7 (Concatenate)    (None, 48, 48, 128)  0           ['batch_normalization_24[0][0]', \n",
            "                                                                  'batch_normalization_25[0][0]'] \n",
            "                                                                                                  \n",
            " max_pooling2d_6 (MaxPooling2D)  (None, 24, 24, 128)  0          ['concatenate_7[0][0]']          \n",
            "                                                                                                  \n",
            " conv2d_26 (Conv2D)             (None, 24, 24, 48)   6192        ['max_pooling2d_6[0][0]']        \n",
            "                                                                                                  \n",
            " batch_normalization_26 (BatchN  (None, 24, 24, 48)  192         ['conv2d_26[0][0]']              \n",
            " ormalization)                                                                                    \n",
            "                                                                                                  \n",
            " conv2d_27 (Conv2D)             (None, 24, 24, 48)   2352        ['batch_normalization_26[0][0]'] \n",
            "                                                                                                  \n",
            " conv2d_28 (Conv2D)             (None, 24, 24, 48)   20784       ['batch_normalization_26[0][0]'] \n",
            "                                                                                                  \n",
            " batch_normalization_27 (BatchN  (None, 24, 24, 48)  192         ['conv2d_27[0][0]']              \n",
            " ormalization)                                                                                    \n",
            "                                                                                                  \n",
            " batch_normalization_28 (BatchN  (None, 24, 24, 48)  192         ['conv2d_28[0][0]']              \n",
            " ormalization)                                                                                    \n",
            "                                                                                                  \n",
            " concatenate_8 (Concatenate)    (None, 24, 24, 96)   0           ['batch_normalization_27[0][0]', \n",
            "                                                                  'batch_normalization_28[0][0]'] \n",
            "                                                                                                  \n",
            " max_pooling2d_7 (MaxPooling2D)  (None, 12, 12, 96)  0           ['concatenate_8[0][0]']          \n",
            "                                                                                                  \n",
            " conv2d_29 (Conv2D)             (None, 12, 12, 24)   2328        ['max_pooling2d_7[0][0]']        \n",
            "                                                                                                  \n",
            " batch_normalization_29 (BatchN  (None, 12, 12, 24)  96          ['conv2d_29[0][0]']              \n",
            " ormalization)                                                                                    \n",
            "                                                                                                  \n",
            " conv2d_30 (Conv2D)             (None, 12, 12, 24)   600         ['batch_normalization_29[0][0]'] \n",
            "                                                                                                  \n",
            " conv2d_31 (Conv2D)             (None, 12, 12, 24)   5208        ['batch_normalization_29[0][0]'] \n",
            "                                                                                                  \n",
            " batch_normalization_30 (BatchN  (None, 12, 12, 24)  96          ['conv2d_30[0][0]']              \n",
            " ormalization)                                                                                    \n",
            "                                                                                                  \n",
            " batch_normalization_31 (BatchN  (None, 12, 12, 24)  96          ['conv2d_31[0][0]']              \n",
            " ormalization)                                                                                    \n",
            "                                                                                                  \n",
            " concatenate_9 (Concatenate)    (None, 12, 12, 48)   0           ['batch_normalization_30[0][0]', \n",
            "                                                                  'batch_normalization_31[0][0]'] \n",
            "                                                                                                  \n",
            " global_average_pooling2d_1 (Gl  (None, 48)          0           ['concatenate_9[0][0]']          \n",
            " obalAveragePooling2D)                                                                            \n",
            "                                                                                                  \n",
            " dense_1 (Dense)                (None, 5)            245         ['global_average_pooling2d_1[0][0\n",
            "                                                                 ]']                              \n",
            "                                                                                                  \n",
            "==================================================================================================\n",
            "Total params: 120,613\n",
            "Trainable params: 119,301\n",
            "Non-trainable params: 1,312\n",
            "__________________________________________________________________________________________________\n"
          ]
        }
      ]
    },
    {
      "cell_type": "code",
      "source": [
        "EPOCHS = 150\n",
        "start_lr = 0.00001\n",
        "min_lr = 0.000001\n",
        "max_lr = 0.00010 * strategy.num_replicas_in_sync\n",
        "rampup_epochs = 10\n",
        "sustain_epochs = 0\n",
        "exp_decay = .8\n",
        "\n",
        "def lrfn(epoch):\n",
        "  if epoch < rampup_epochs:\n",
        "    return (max_lr - start_lr)/rampup_epochs * epoch + start_lr\n",
        "  elif epoch < rampup_epochs + sustain_epochs:\n",
        "    return max_lr\n",
        "  else:\n",
        "    return (max_lr - min_lr) * exp_decay**(epoch-rampup_epochs-sustain_epochs) + min_lr\n",
        "    \n",
        "lr_callback = tf.keras.callbacks.LearningRateScheduler(lambda epoch: lrfn(epoch), verbose=True)\n",
        "\n",
        "rang = np.arange(EPOCHS)\n",
        "y = [lrfn(x) for x in rang]\n",
        "plt.plot(rang, y)\n",
        "print('Learning rate per epoch:')"
      ],
      "metadata": {
        "id": "gdr3JHI5DPtn",
        "colab": {
          "base_uri": "https://localhost:8080/",
          "height": 283
        },
        "outputId": "73d6a2c3-2ff1-451c-92a4-49af490b9dd6"
      },
      "execution_count": 45,
      "outputs": [
        {
          "output_type": "stream",
          "name": "stdout",
          "text": [
            "Learning rate per epoch:\n"
          ]
        },
        {
          "output_type": "display_data",
          "data": {
            "image/png": "[encoded data removed]",
            "text/plain": [
              "<Figure size 432x288 with 1 Axes>"
            ]
          },
          "metadata": {
            "needs_background": "light"
          }
        }
      ]
    },
    {
      "cell_type": "code",
      "source": [
        "history = model.fit(training_dataset,\n",
        "                    steps_per_epoch=steps_per_epoch,\n",
        "                    epochs=EPOCHS,\n",
        "                    validation_data=validation_dataset,\n",
        "                    callbacks=[lr_callback]\n",
        "          )\n"
      ],
      "metadata": {
        "id": "5n64U7dqDPwb",
        "colab": {
          "base_uri": "https://localhost:8080/"
        },
        "outputId": "b45ac478-7525-4f64-af87-09962f8acc72"
      },
      "execution_count": 46,
      "outputs": [
        {
          "output_type": "stream",
          "name": "stdout",
          "text": [
            "\n",
            "Epoch 00001: LearningRateScheduler setting learning rate to 1e-05.\n",
            "Epoch 1/150\n",
            "23/23 [==============================] - 30s 490ms/step - loss: 1.6208 - accuracy: 0.2398 - val_loss: 1.8865 - val_accuracy: 0.2478 - lr: 1.0000e-05\n",
            "\n",
            "Epoch 00002: LearningRateScheduler setting learning rate to 8.9e-05.\n",
            "Epoch 2/150\n",
            "23/23 [==============================] - 4s 180ms/step - loss: 1.4604 - accuracy: 0.3665 - val_loss: 1.4595 - val_accuracy: 0.3507 - lr: 8.9000e-05\n",
            "\n",
            "Epoch 00003: LearningRateScheduler setting learning rate to 0.000168.\n",
            "Epoch 3/150\n",
            "23/23 [==============================] - 4s 177ms/step - loss: 1.2841 - accuracy: 0.4854 - val_loss: 1.1844 - val_accuracy: 0.5116 - lr: 1.6800e-04\n",
            "\n",
            "Epoch 00004: LearningRateScheduler setting learning rate to 0.000247.\n",
            "Epoch 4/150\n",
            "23/23 [==============================] - 4s 176ms/step - loss: 1.1887 - accuracy: 0.5425 - val_loss: 1.1089 - val_accuracy: 0.5493 - lr: 2.4700e-04\n",
            "\n",
            "Epoch 00005: LearningRateScheduler setting learning rate to 0.000326.\n",
            "Epoch 5/150\n",
            "23/23 [==============================] - 4s 177ms/step - loss: 1.1265 - accuracy: 0.5700 - val_loss: 1.1200 - val_accuracy: 0.5638 - lr: 3.2600e-04\n",
            "\n",
            "Epoch 00006: LearningRateScheduler setting learning rate to 0.000405.\n",
            "Epoch 6/150\n",
            "23/23 [==============================] - 4s 175ms/step - loss: 1.0723 - accuracy: 0.5853 - val_loss: 1.0148 - val_accuracy: 0.6029 - lr: 4.0500e-04\n",
            "\n",
            "Epoch 00007: LearningRateScheduler setting learning rate to 0.000484.\n",
            "Epoch 7/150\n",
            "23/23 [==============================] - 4s 176ms/step - loss: 1.0339 - accuracy: 0.5965 - val_loss: 1.0130 - val_accuracy: 0.6101 - lr: 4.8400e-04\n",
            "\n",
            "Epoch 00008: LearningRateScheduler setting learning rate to 0.000563.\n",
            "Epoch 8/150\n",
            "23/23 [==============================] - 4s 175ms/step - loss: 1.0021 - accuracy: 0.6172 - val_loss: 1.0250 - val_accuracy: 0.5826 - lr: 5.6300e-04\n",
            "\n",
            "Epoch 00009: LearningRateScheduler setting learning rate to 0.000642.\n",
            "Epoch 9/150\n",
            "23/23 [==============================] - 4s 173ms/step - loss: 0.9703 - accuracy: 0.6321 - val_loss: 1.0236 - val_accuracy: 0.6014 - lr: 6.4200e-04\n",
            "\n",
            "Epoch 00010: LearningRateScheduler setting learning rate to 0.000721.\n",
            "Epoch 10/150\n",
            "23/23 [==============================] - 4s 173ms/step - loss: 0.9389 - accuracy: 0.6505 - val_loss: 0.9863 - val_accuracy: 0.6217 - lr: 7.2100e-04\n",
            "\n",
            "Epoch 00011: LearningRateScheduler setting learning rate to 0.0008.\n",
            "Epoch 11/150\n",
            "23/23 [==============================] - 4s 174ms/step - loss: 0.9290 - accuracy: 0.6467 - val_loss: 0.9364 - val_accuracy: 0.6507 - lr: 8.0000e-04\n",
            "\n",
            "Epoch 00012: LearningRateScheduler setting learning rate to 0.0006402000000000001.\n",
            "Epoch 12/150\n",
            "23/23 [==============================] - 4s 173ms/step - loss: 0.8865 - accuracy: 0.6705 - val_loss: 0.8137 - val_accuracy: 0.6913 - lr: 6.4020e-04\n",
            "\n",
            "Epoch 00013: LearningRateScheduler setting learning rate to 0.0005123600000000001.\n",
            "Epoch 13/150\n",
            "23/23 [==============================] - 4s 174ms/step - loss: 0.8347 - accuracy: 0.6963 - val_loss: 0.8303 - val_accuracy: 0.6768 - lr: 5.1236e-04\n",
            "\n",
            "Epoch 00014: LearningRateScheduler setting learning rate to 0.00041008800000000013.\n",
            "Epoch 14/150\n",
            "23/23 [==============================] - 4s 197ms/step - loss: 0.7995 - accuracy: 0.7116 - val_loss: 0.7676 - val_accuracy: 0.6812 - lr: 4.1009e-04\n",
            "\n",
            "Epoch 00015: LearningRateScheduler setting learning rate to 0.0003282704000000001.\n",
            "Epoch 15/150\n",
            "23/23 [==============================] - 4s 180ms/step - loss: 0.7852 - accuracy: 0.7164 - val_loss: 0.8167 - val_accuracy: 0.7014 - lr: 3.2827e-04\n",
            "\n",
            "Epoch 00016: LearningRateScheduler setting learning rate to 0.0002628163200000001.\n",
            "Epoch 16/150\n",
            "23/23 [==============================] - 4s 176ms/step - loss: 0.7647 - accuracy: 0.7171 - val_loss: 0.7636 - val_accuracy: 0.7275 - lr: 2.6282e-04\n",
            "\n",
            "Epoch 00017: LearningRateScheduler setting learning rate to 0.0002104530560000001.\n",
            "Epoch 17/150\n",
            "23/23 [==============================] - 4s 176ms/step - loss: 0.7483 - accuracy: 0.7289 - val_loss: 0.7527 - val_accuracy: 0.7159 - lr: 2.1045e-04\n",
            "\n",
            "Epoch 00018: LearningRateScheduler setting learning rate to 0.00016856244480000006.\n",
            "Epoch 18/150\n",
            "23/23 [==============================] - 4s 174ms/step - loss: 0.7174 - accuracy: 0.7425 - val_loss: 0.7179 - val_accuracy: 0.7217 - lr: 1.6856e-04\n",
            "\n",
            "Epoch 00019: LearningRateScheduler setting learning rate to 0.00013504995584000007.\n",
            "Epoch 19/150\n",
            "23/23 [==============================] - 4s 178ms/step - loss: 0.7238 - accuracy: 0.7446 - val_loss: 0.7110 - val_accuracy: 0.7348 - lr: 1.3505e-04\n",
            "\n",
            "Epoch 00020: LearningRateScheduler setting learning rate to 0.00010823996467200006.\n",
            "Epoch 20/150\n",
            "23/23 [==============================] - 4s 176ms/step - loss: 0.7095 - accuracy: 0.7408 - val_loss: 0.6904 - val_accuracy: 0.7348 - lr: 1.0824e-04\n",
            "\n",
            "Epoch 00021: LearningRateScheduler setting learning rate to 8.679197173760004e-05.\n",
            "Epoch 21/150\n",
            "23/23 [==============================] - 4s 174ms/step - loss: 0.6971 - accuracy: 0.7473 - val_loss: 0.6818 - val_accuracy: 0.7391 - lr: 8.6792e-05\n",
            "\n",
            "Epoch 00022: LearningRateScheduler setting learning rate to 6.963357739008005e-05.\n",
            "Epoch 22/150\n",
            "23/23 [==============================] - 4s 178ms/step - loss: 0.6754 - accuracy: 0.7673 - val_loss: 0.6708 - val_accuracy: 0.7464 - lr: 6.9634e-05\n",
            "\n",
            "Epoch 00023: LearningRateScheduler setting learning rate to 5.590686191206403e-05.\n",
            "Epoch 23/150\n",
            "23/23 [==============================] - 4s 177ms/step - loss: 0.6676 - accuracy: 0.7694 - val_loss: 0.6690 - val_accuracy: 0.7449 - lr: 5.5907e-05\n",
            "\n",
            "Epoch 00024: LearningRateScheduler setting learning rate to 4.4925489529651225e-05.\n",
            "Epoch 24/150\n",
            "23/23 [==============================] - 4s 176ms/step - loss: 0.6543 - accuracy: 0.7694 - val_loss: 0.6870 - val_accuracy: 0.7478 - lr: 4.4925e-05\n",
            "\n",
            "Epoch 00025: LearningRateScheduler setting learning rate to 3.6140391623720984e-05.\n",
            "Epoch 25/150\n",
            "23/23 [==============================] - 4s 178ms/step - loss: 0.6824 - accuracy: 0.7490 - val_loss: 0.6750 - val_accuracy: 0.7420 - lr: 3.6140e-05\n",
            "\n",
            "Epoch 00026: LearningRateScheduler setting learning rate to 2.9112313298976794e-05.\n",
            "Epoch 26/150\n",
            "23/23 [==============================] - 4s 176ms/step - loss: 0.6755 - accuracy: 0.7632 - val_loss: 0.6724 - val_accuracy: 0.7478 - lr: 2.9112e-05\n",
            "\n",
            "Epoch 00027: LearningRateScheduler setting learning rate to 2.3489850639181433e-05.\n",
            "Epoch 27/150\n",
            "23/23 [==============================] - 4s 177ms/step - loss: 0.6702 - accuracy: 0.7568 - val_loss: 0.6691 - val_accuracy: 0.7449 - lr: 2.3490e-05\n",
            "\n",
            "Epoch 00028: LearningRateScheduler setting learning rate to 1.899188051134515e-05.\n",
            "Epoch 28/150\n",
            "23/23 [==============================] - 4s 177ms/step - loss: 0.6523 - accuracy: 0.7751 - val_loss: 0.6640 - val_accuracy: 0.7565 - lr: 1.8992e-05\n",
            "\n",
            "Epoch 00029: LearningRateScheduler setting learning rate to 1.539350440907612e-05.\n",
            "Epoch 29/150\n",
            "23/23 [==============================] - 5s 200ms/step - loss: 0.6618 - accuracy: 0.7653 - val_loss: 0.6627 - val_accuracy: 0.7580 - lr: 1.5394e-05\n",
            "\n",
            "Epoch 00030: LearningRateScheduler setting learning rate to 1.2514803527260897e-05.\n",
            "Epoch 30/150\n",
            "23/23 [==============================] - 4s 176ms/step - loss: 0.6447 - accuracy: 0.7721 - val_loss: 0.6622 - val_accuracy: 0.7478 - lr: 1.2515e-05\n",
            "\n",
            "Epoch 00031: LearningRateScheduler setting learning rate to 1.0211842821808719e-05.\n",
            "Epoch 31/150\n",
            "23/23 [==============================] - 4s 174ms/step - loss: 0.6567 - accuracy: 0.7717 - val_loss: 0.6595 - val_accuracy: 0.7478 - lr: 1.0212e-05\n",
            "\n",
            "Epoch 00032: LearningRateScheduler setting learning rate to 8.369474257446974e-06.\n",
            "Epoch 32/150\n",
            "23/23 [==============================] - 4s 180ms/step - loss: 0.6512 - accuracy: 0.7629 - val_loss: 0.6623 - val_accuracy: 0.7464 - lr: 8.3695e-06\n",
            "\n",
            "Epoch 00033: LearningRateScheduler setting learning rate to 6.8955794059575795e-06.\n",
            "Epoch 33/150\n",
            "23/23 [==============================] - 4s 176ms/step - loss: 0.6531 - accuracy: 0.7700 - val_loss: 0.6670 - val_accuracy: 0.7493 - lr: 6.8956e-06\n",
            "\n",
            "Epoch 00034: LearningRateScheduler setting learning rate to 5.716463524766064e-06.\n",
            "Epoch 34/150\n",
            "23/23 [==============================] - 4s 178ms/step - loss: 0.6604 - accuracy: 0.7677 - val_loss: 0.6637 - val_accuracy: 0.7478 - lr: 5.7165e-06\n",
            "\n",
            "Epoch 00035: LearningRateScheduler setting learning rate to 4.773170819812852e-06.\n",
            "Epoch 35/150\n",
            "23/23 [==============================] - 4s 176ms/step - loss: 0.6567 - accuracy: 0.7683 - val_loss: 0.6649 - val_accuracy: 0.7522 - lr: 4.7732e-06\n",
            "\n",
            "Epoch 00036: LearningRateScheduler setting learning rate to 4.0185366558502816e-06.\n",
            "Epoch 36/150\n",
            "23/23 [==============================] - 4s 174ms/step - loss: 0.6525 - accuracy: 0.7751 - val_loss: 0.6642 - val_accuracy: 0.7565 - lr: 4.0185e-06\n",
            "\n",
            "Epoch 00037: LearningRateScheduler setting learning rate to 3.414829324680225e-06.\n",
            "Epoch 37/150\n",
            "23/23 [==============================] - 4s 174ms/step - loss: 0.6612 - accuracy: 0.7626 - val_loss: 0.6593 - val_accuracy: 0.7565 - lr: 3.4148e-06\n",
            "\n",
            "Epoch 00038: LearningRateScheduler setting learning rate to 2.9318634597441806e-06.\n",
            "Epoch 38/150\n",
            "23/23 [==============================] - 4s 174ms/step - loss: 0.6663 - accuracy: 0.7639 - val_loss: 0.6671 - val_accuracy: 0.7522 - lr: 2.9319e-06\n",
            "\n",
            "Epoch 00039: LearningRateScheduler setting learning rate to 2.545490767795344e-06.\n",
            "Epoch 39/150\n",
            "23/23 [==============================] - 4s 174ms/step - loss: 0.6558 - accuracy: 0.7622 - val_loss: 0.6625 - val_accuracy: 0.7507 - lr: 2.5455e-06\n",
            "\n",
            "Epoch 00040: LearningRateScheduler setting learning rate to 2.2363926142362756e-06.\n",
            "Epoch 40/150\n",
            "23/23 [==============================] - 4s 175ms/step - loss: 0.6332 - accuracy: 0.7779 - val_loss: 0.6663 - val_accuracy: 0.7536 - lr: 2.2364e-06\n",
            "\n",
            "Epoch 00041: LearningRateScheduler setting learning rate to 1.9891140913890208e-06.\n",
            "Epoch 41/150\n",
            "23/23 [==============================] - 4s 183ms/step - loss: 0.6878 - accuracy: 0.7531 - val_loss: 0.6642 - val_accuracy: 0.7507 - lr: 1.9891e-06\n",
            "\n",
            "Epoch 00042: LearningRateScheduler setting learning rate to 1.7912912731112164e-06.\n",
            "Epoch 42/150\n",
            "23/23 [==============================] - 4s 182ms/step - loss: 0.6779 - accuracy: 0.7565 - val_loss: 0.6624 - val_accuracy: 0.7522 - lr: 1.7913e-06\n",
            "\n",
            "Epoch 00043: LearningRateScheduler setting learning rate to 1.633033018488973e-06.\n",
            "Epoch 43/150\n",
            "23/23 [==============================] - 4s 184ms/step - loss: 0.6656 - accuracy: 0.7677 - val_loss: 0.6606 - val_accuracy: 0.7609 - lr: 1.6330e-06\n",
            "\n",
            "Epoch 00044: LearningRateScheduler setting learning rate to 1.5064264147911785e-06.\n",
            "Epoch 44/150\n",
            "23/23 [==============================] - 4s 197ms/step - loss: 0.6558 - accuracy: 0.7673 - val_loss: 0.6613 - val_accuracy: 0.7565 - lr: 1.5064e-06\n",
            "\n",
            "Epoch 00045: LearningRateScheduler setting learning rate to 1.4051411318329429e-06.\n",
            "Epoch 45/150\n",
            "23/23 [==============================] - 4s 175ms/step - loss: 0.6523 - accuracy: 0.7660 - val_loss: 0.6628 - val_accuracy: 0.7565 - lr: 1.4051e-06\n",
            "\n",
            "Epoch 00046: LearningRateScheduler setting learning rate to 1.3241129054663542e-06.\n",
            "Epoch 46/150\n",
            "23/23 [==============================] - 4s 176ms/step - loss: 0.6442 - accuracy: 0.7704 - val_loss: 0.6640 - val_accuracy: 0.7536 - lr: 1.3241e-06\n",
            "\n",
            "Epoch 00047: LearningRateScheduler setting learning rate to 1.2592903243730833e-06.\n",
            "Epoch 47/150\n",
            "23/23 [==============================] - 4s 174ms/step - loss: 0.6341 - accuracy: 0.7772 - val_loss: 0.6635 - val_accuracy: 0.7536 - lr: 1.2593e-06\n",
            "\n",
            "Epoch 00048: LearningRateScheduler setting learning rate to 1.2074322594984667e-06.\n",
            "Epoch 48/150\n",
            "23/23 [==============================] - 4s 174ms/step - loss: 0.6937 - accuracy: 0.7486 - val_loss: 0.6639 - val_accuracy: 0.7580 - lr: 1.2074e-06\n",
            "\n",
            "Epoch 00049: LearningRateScheduler setting learning rate to 1.1659458075987735e-06.\n",
            "Epoch 49/150\n",
            "23/23 [==============================] - 4s 175ms/step - loss: 0.6375 - accuracy: 0.7694 - val_loss: 0.6630 - val_accuracy: 0.7464 - lr: 1.1659e-06\n",
            "\n",
            "Epoch 00050: LearningRateScheduler setting learning rate to 1.1327566460790187e-06.\n",
            "Epoch 50/150\n",
            "23/23 [==============================] - 4s 174ms/step - loss: 0.6635 - accuracy: 0.7592 - val_loss: 0.6689 - val_accuracy: 0.7536 - lr: 1.1328e-06\n",
            "\n",
            "Epoch 00051: LearningRateScheduler setting learning rate to 1.106205316863215e-06.\n",
            "Epoch 51/150\n",
            "23/23 [==============================] - 4s 173ms/step - loss: 0.6503 - accuracy: 0.7677 - val_loss: 0.6622 - val_accuracy: 0.7464 - lr: 1.1062e-06\n",
            "\n",
            "Epoch 00052: LearningRateScheduler setting learning rate to 1.084964253490572e-06.\n",
            "Epoch 52/150\n",
            "23/23 [==============================] - 4s 174ms/step - loss: 0.6698 - accuracy: 0.7656 - val_loss: 0.6625 - val_accuracy: 0.7536 - lr: 1.0850e-06\n",
            "\n",
            "Epoch 00053: LearningRateScheduler setting learning rate to 1.0679714027924576e-06.\n",
            "Epoch 53/150\n",
            "23/23 [==============================] - 4s 175ms/step - loss: 0.6675 - accuracy: 0.7677 - val_loss: 0.6692 - val_accuracy: 0.7507 - lr: 1.0680e-06\n",
            "\n",
            "Epoch 00054: LearningRateScheduler setting learning rate to 1.054377122233966e-06.\n",
            "Epoch 54/150\n",
            "23/23 [==============================] - 4s 174ms/step - loss: 0.6517 - accuracy: 0.7731 - val_loss: 0.6670 - val_accuracy: 0.7580 - lr: 1.0544e-06\n",
            "\n",
            "Epoch 00055: LearningRateScheduler setting learning rate to 1.0435016977871729e-06.\n",
            "Epoch 55/150\n",
            "23/23 [==============================] - 4s 174ms/step - loss: 0.6534 - accuracy: 0.7741 - val_loss: 0.6663 - val_accuracy: 0.7464 - lr: 1.0435e-06\n",
            "\n",
            "Epoch 00056: LearningRateScheduler setting learning rate to 1.0348013582297383e-06.\n",
            "Epoch 56/150\n",
            "23/23 [==============================] - 4s 174ms/step - loss: 0.6537 - accuracy: 0.7653 - val_loss: 0.6582 - val_accuracy: 0.7464 - lr: 1.0348e-06\n",
            "\n",
            "Epoch 00057: LearningRateScheduler setting learning rate to 1.0278410865837907e-06.\n",
            "Epoch 57/150\n",
            "23/23 [==============================] - 4s 174ms/step - loss: 0.6342 - accuracy: 0.7772 - val_loss: 0.6620 - val_accuracy: 0.7522 - lr: 1.0278e-06\n",
            "\n",
            "Epoch 00058: LearningRateScheduler setting learning rate to 1.0222728692670325e-06.\n",
            "Epoch 58/150\n",
            "23/23 [==============================] - 4s 176ms/step - loss: 0.6494 - accuracy: 0.7711 - val_loss: 0.6638 - val_accuracy: 0.7493 - lr: 1.0223e-06\n",
            "\n",
            "Epoch 00059: LearningRateScheduler setting learning rate to 1.0178182954136259e-06.\n",
            "Epoch 59/150\n",
            "23/23 [==============================] - 4s 196ms/step - loss: 0.6577 - accuracy: 0.7622 - val_loss: 0.6613 - val_accuracy: 0.7493 - lr: 1.0178e-06\n",
            "\n",
            "Epoch 00060: LearningRateScheduler setting learning rate to 1.0142546363309008e-06.\n",
            "Epoch 60/150\n",
            "23/23 [==============================] - 4s 175ms/step - loss: 0.6493 - accuracy: 0.7704 - val_loss: 0.6576 - val_accuracy: 0.7580 - lr: 1.0143e-06\n",
            "\n",
            "Epoch 00061: LearningRateScheduler setting learning rate to 1.0114037090647207e-06.\n",
            "Epoch 61/150\n",
            "23/23 [==============================] - 4s 174ms/step - loss: 0.6570 - accuracy: 0.7680 - val_loss: 0.6638 - val_accuracy: 0.7420 - lr: 1.0114e-06\n",
            "\n",
            "Epoch 00062: LearningRateScheduler setting learning rate to 1.0091229672517765e-06.\n",
            "Epoch 62/150\n",
            "23/23 [==============================] - 4s 173ms/step - loss: 0.6558 - accuracy: 0.7622 - val_loss: 0.6583 - val_accuracy: 0.7580 - lr: 1.0091e-06\n",
            "\n",
            "Epoch 00063: LearningRateScheduler setting learning rate to 1.007298373801421e-06.\n",
            "Epoch 63/150\n",
            "23/23 [==============================] - 4s 173ms/step - loss: 0.6572 - accuracy: 0.7680 - val_loss: 0.6550 - val_accuracy: 0.7609 - lr: 1.0073e-06\n",
            "\n",
            "Epoch 00064: LearningRateScheduler setting learning rate to 1.0058386990411368e-06.\n",
            "Epoch 64/150\n",
            "23/23 [==============================] - 4s 175ms/step - loss: 0.6594 - accuracy: 0.7582 - val_loss: 0.6613 - val_accuracy: 0.7507 - lr: 1.0058e-06\n",
            "\n",
            "Epoch 00065: LearningRateScheduler setting learning rate to 1.0046709592329096e-06.\n",
            "Epoch 65/150\n",
            "23/23 [==============================] - 4s 174ms/step - loss: 0.6648 - accuracy: 0.7636 - val_loss: 0.6644 - val_accuracy: 0.7464 - lr: 1.0047e-06\n",
            "\n",
            "Epoch 00066: LearningRateScheduler setting learning rate to 1.0037367673863276e-06.\n",
            "Epoch 66/150\n",
            "23/23 [==============================] - 4s 177ms/step - loss: 0.6392 - accuracy: 0.7721 - val_loss: 0.6574 - val_accuracy: 0.7652 - lr: 1.0037e-06\n",
            "\n",
            "Epoch 00067: LearningRateScheduler setting learning rate to 1.002989413909062e-06.\n",
            "Epoch 67/150\n",
            "23/23 [==============================] - 4s 174ms/step - loss: 0.6592 - accuracy: 0.7704 - val_loss: 0.6592 - val_accuracy: 0.7522 - lr: 1.0030e-06\n",
            "\n",
            "Epoch 00068: LearningRateScheduler setting learning rate to 1.0023915311272496e-06.\n",
            "Epoch 68/150\n",
            "23/23 [==============================] - 4s 173ms/step - loss: 0.6333 - accuracy: 0.7877 - val_loss: 0.6605 - val_accuracy: 0.7551 - lr: 1.0024e-06\n",
            "\n",
            "Epoch 00069: LearningRateScheduler setting learning rate to 1.0019132249017998e-06.\n",
            "Epoch 69/150\n",
            "23/23 [==============================] - 4s 175ms/step - loss: 0.6456 - accuracy: 0.7643 - val_loss: 0.6542 - val_accuracy: 0.7536 - lr: 1.0019e-06\n",
            "\n",
            "Epoch 00070: LearningRateScheduler setting learning rate to 1.0015305799214398e-06.\n",
            "Epoch 70/150\n",
            "23/23 [==============================] - 4s 176ms/step - loss: 0.6483 - accuracy: 0.7704 - val_loss: 0.6554 - val_accuracy: 0.7580 - lr: 1.0015e-06\n",
            "\n",
            "Epoch 00071: LearningRateScheduler setting learning rate to 1.0012244639371517e-06.\n",
            "Epoch 71/150\n",
            "23/23 [==============================] - 4s 176ms/step - loss: 0.6548 - accuracy: 0.7599 - val_loss: 0.6580 - val_accuracy: 0.7594 - lr: 1.0012e-06\n",
            "\n",
            "Epoch 00072: LearningRateScheduler setting learning rate to 1.0009795711497215e-06.\n",
            "Epoch 72/150\n",
            "23/23 [==============================] - 4s 176ms/step - loss: 0.6522 - accuracy: 0.7724 - val_loss: 0.6632 - val_accuracy: 0.7536 - lr: 1.0010e-06\n",
            "\n",
            "Epoch 00073: LearningRateScheduler setting learning rate to 1.0007836569197772e-06.\n",
            "Epoch 73/150\n",
            "23/23 [==============================] - 4s 197ms/step - loss: 0.6446 - accuracy: 0.7765 - val_loss: 0.6577 - val_accuracy: 0.7580 - lr: 1.0008e-06\n",
            "\n",
            "Epoch 00074: LearningRateScheduler setting learning rate to 1.0006269255358218e-06.\n",
            "Epoch 74/150\n",
            "23/23 [==============================] - 4s 179ms/step - loss: 0.6489 - accuracy: 0.7683 - val_loss: 0.6647 - val_accuracy: 0.7551 - lr: 1.0006e-06\n",
            "\n",
            "Epoch 00075: LearningRateScheduler setting learning rate to 1.0005015404286574e-06.\n",
            "Epoch 75/150\n",
            "23/23 [==============================] - 4s 174ms/step - loss: 0.6363 - accuracy: 0.7819 - val_loss: 0.6617 - val_accuracy: 0.7493 - lr: 1.0005e-06\n",
            "\n",
            "Epoch 00076: LearningRateScheduler setting learning rate to 1.000401232342926e-06.\n",
            "Epoch 76/150\n",
            "23/23 [==============================] - 4s 173ms/step - loss: 0.6488 - accuracy: 0.7663 - val_loss: 0.6557 - val_accuracy: 0.7609 - lr: 1.0004e-06\n",
            "\n",
            "Epoch 00077: LearningRateScheduler setting learning rate to 1.0003209858743406e-06.\n",
            "Epoch 77/150\n",
            "23/23 [==============================] - 4s 174ms/step - loss: 0.6617 - accuracy: 0.7666 - val_loss: 0.6548 - val_accuracy: 0.7536 - lr: 1.0003e-06\n",
            "\n",
            "Epoch 00078: LearningRateScheduler setting learning rate to 1.0002567886994725e-06.\n",
            "Epoch 78/150\n",
            "23/23 [==============================] - 4s 174ms/step - loss: 0.6752 - accuracy: 0.7612 - val_loss: 0.6611 - val_accuracy: 0.7536 - lr: 1.0003e-06\n",
            "\n",
            "Epoch 00079: LearningRateScheduler setting learning rate to 1.000205430959578e-06.\n",
            "Epoch 79/150\n",
            "23/23 [==============================] - 4s 175ms/step - loss: 0.6538 - accuracy: 0.7690 - val_loss: 0.6573 - val_accuracy: 0.7493 - lr: 1.0002e-06\n",
            "\n",
            "Epoch 00080: LearningRateScheduler setting learning rate to 1.0001643447676624e-06.\n",
            "Epoch 80/150\n",
            "23/23 [==============================] - 4s 173ms/step - loss: 0.6652 - accuracy: 0.7639 - val_loss: 0.6625 - val_accuracy: 0.7507 - lr: 1.0002e-06\n",
            "\n",
            "Epoch 00081: LearningRateScheduler setting learning rate to 1.0001314758141298e-06.\n",
            "Epoch 81/150\n",
            "23/23 [==============================] - 4s 174ms/step - loss: 0.6662 - accuracy: 0.7687 - val_loss: 0.6558 - val_accuracy: 0.7522 - lr: 1.0001e-06\n",
            "\n",
            "Epoch 00082: LearningRateScheduler setting learning rate to 1.0001051806513039e-06.\n",
            "Epoch 82/150\n",
            "23/23 [==============================] - 4s 173ms/step - loss: 0.6230 - accuracy: 0.7846 - val_loss: 0.6642 - val_accuracy: 0.7507 - lr: 1.0001e-06\n",
            "\n",
            "Epoch 00083: LearningRateScheduler setting learning rate to 1.000084144521043e-06.\n",
            "Epoch 83/150\n",
            "23/23 [==============================] - 4s 174ms/step - loss: 0.6492 - accuracy: 0.7653 - val_loss: 0.6599 - val_accuracy: 0.7493 - lr: 1.0001e-06\n",
            "\n",
            "Epoch 00084: LearningRateScheduler setting learning rate to 1.0000673156168345e-06.\n",
            "Epoch 84/150\n",
            "23/23 [==============================] - 4s 172ms/step - loss: 0.6619 - accuracy: 0.7615 - val_loss: 0.6598 - val_accuracy: 0.7623 - lr: 1.0001e-06\n",
            "\n",
            "Epoch 00085: LearningRateScheduler setting learning rate to 1.0000538524934677e-06.\n",
            "Epoch 85/150\n",
            "23/23 [==============================] - 4s 178ms/step - loss: 0.6611 - accuracy: 0.7697 - val_loss: 0.6592 - val_accuracy: 0.7580 - lr: 1.0001e-06\n",
            "\n",
            "Epoch 00086: LearningRateScheduler setting learning rate to 1.000043081994774e-06.\n",
            "Epoch 86/150\n",
            "23/23 [==============================] - 4s 174ms/step - loss: 0.6427 - accuracy: 0.7734 - val_loss: 0.6605 - val_accuracy: 0.7536 - lr: 1.0000e-06\n",
            "\n",
            "Epoch 00087: LearningRateScheduler setting learning rate to 1.0000344655958192e-06.\n",
            "Epoch 87/150\n",
            "23/23 [==============================] - 4s 174ms/step - loss: 0.6509 - accuracy: 0.7755 - val_loss: 0.6623 - val_accuracy: 0.7551 - lr: 1.0000e-06\n",
            "\n",
            "Epoch 00088: LearningRateScheduler setting learning rate to 1.0000275724766553e-06.\n",
            "Epoch 88/150\n",
            "23/23 [==============================] - 4s 175ms/step - loss: 0.6703 - accuracy: 0.7527 - val_loss: 0.6571 - val_accuracy: 0.7551 - lr: 1.0000e-06\n",
            "\n",
            "Epoch 00089: LearningRateScheduler setting learning rate to 1.0000220579813243e-06.\n",
            "Epoch 89/150\n",
            "23/23 [==============================] - 4s 197ms/step - loss: 0.6761 - accuracy: 0.7578 - val_loss: 0.6586 - val_accuracy: 0.7551 - lr: 1.0000e-06\n",
            "\n",
            "Epoch 00090: LearningRateScheduler setting learning rate to 1.0000176463850595e-06.\n",
            "Epoch 90/150\n",
            "23/23 [==============================] - 4s 175ms/step - loss: 0.6568 - accuracy: 0.7697 - val_loss: 0.6592 - val_accuracy: 0.7580 - lr: 1.0000e-06\n",
            "\n",
            "Epoch 00091: LearningRateScheduler setting learning rate to 1.0000141171080475e-06.\n",
            "Epoch 91/150\n",
            "23/23 [==============================] - 4s 174ms/step - loss: 0.6564 - accuracy: 0.7660 - val_loss: 0.6566 - val_accuracy: 0.7493 - lr: 1.0000e-06\n",
            "\n",
            "Epoch 00092: LearningRateScheduler setting learning rate to 1.000011293686438e-06.\n",
            "Epoch 92/150\n",
            "23/23 [==============================] - 4s 174ms/step - loss: 0.6230 - accuracy: 0.7877 - val_loss: 0.6601 - val_accuracy: 0.7522 - lr: 1.0000e-06\n",
            "\n",
            "Epoch 00093: LearningRateScheduler setting learning rate to 1.0000090349491505e-06.\n",
            "Epoch 93/150\n",
            "23/23 [==============================] - 4s 174ms/step - loss: 0.6502 - accuracy: 0.7704 - val_loss: 0.6640 - val_accuracy: 0.7580 - lr: 1.0000e-06\n",
            "\n",
            "Epoch 00094: LearningRateScheduler setting learning rate to 1.0000072279593203e-06.\n",
            "Epoch 94/150\n",
            "23/23 [==============================] - 4s 174ms/step - loss: 0.6282 - accuracy: 0.7792 - val_loss: 0.6549 - val_accuracy: 0.7609 - lr: 1.0000e-06\n",
            "\n",
            "Epoch 00095: LearningRateScheduler setting learning rate to 1.0000057823674562e-06.\n",
            "Epoch 95/150\n",
            "23/23 [==============================] - 4s 174ms/step - loss: 0.6542 - accuracy: 0.7660 - val_loss: 0.6589 - val_accuracy: 0.7551 - lr: 1.0000e-06\n",
            "\n",
            "Epoch 00096: LearningRateScheduler setting learning rate to 1.000004625893965e-06.\n",
            "Epoch 96/150\n",
            "23/23 [==============================] - 4s 175ms/step - loss: 0.6563 - accuracy: 0.7683 - val_loss: 0.6612 - val_accuracy: 0.7536 - lr: 1.0000e-06\n",
            "\n",
            "Epoch 00097: LearningRateScheduler setting learning rate to 1.000003700715172e-06.\n",
            "Epoch 97/150\n",
            "23/23 [==============================] - 4s 175ms/step - loss: 0.6724 - accuracy: 0.7670 - val_loss: 0.6598 - val_accuracy: 0.7594 - lr: 1.0000e-06\n",
            "\n",
            "Epoch 00098: LearningRateScheduler setting learning rate to 1.0000029605721376e-06.\n",
            "Epoch 98/150\n",
            "23/23 [==============================] - 4s 173ms/step - loss: 0.6735 - accuracy: 0.7636 - val_loss: 0.6559 - val_accuracy: 0.7580 - lr: 1.0000e-06\n",
            "\n",
            "Epoch 00099: LearningRateScheduler setting learning rate to 1.00000236845771e-06.\n",
            "Epoch 99/150\n",
            "23/23 [==============================] - 4s 174ms/step - loss: 0.6355 - accuracy: 0.7816 - val_loss: 0.6553 - val_accuracy: 0.7652 - lr: 1.0000e-06\n",
            "\n",
            "Epoch 00100: LearningRateScheduler setting learning rate to 1.000001894766168e-06.\n",
            "Epoch 100/150\n",
            "23/23 [==============================] - 4s 175ms/step - loss: 0.6545 - accuracy: 0.7721 - val_loss: 0.6573 - val_accuracy: 0.7493 - lr: 1.0000e-06\n",
            "\n",
            "Epoch 00101: LearningRateScheduler setting learning rate to 1.0000015158129344e-06.\n",
            "Epoch 101/150\n",
            "23/23 [==============================] - 4s 175ms/step - loss: 0.6622 - accuracy: 0.7585 - val_loss: 0.6638 - val_accuracy: 0.7522 - lr: 1.0000e-06\n",
            "\n",
            "Epoch 00102: LearningRateScheduler setting learning rate to 1.0000012126503476e-06.\n",
            "Epoch 102/150\n",
            "23/23 [==============================] - 4s 172ms/step - loss: 0.6555 - accuracy: 0.7612 - val_loss: 0.6585 - val_accuracy: 0.7565 - lr: 1.0000e-06\n",
            "\n",
            "Epoch 00103: LearningRateScheduler setting learning rate to 1.000000970120278e-06.\n",
            "Epoch 103/150\n",
            "23/23 [==============================] - 4s 197ms/step - loss: 0.6462 - accuracy: 0.7680 - val_loss: 0.6541 - val_accuracy: 0.7609 - lr: 1.0000e-06\n",
            "\n",
            "Epoch 00104: LearningRateScheduler setting learning rate to 1.0000007760962223e-06.\n",
            "Epoch 104/150\n",
            "23/23 [==============================] - 4s 176ms/step - loss: 0.6641 - accuracy: 0.7643 - val_loss: 0.6690 - val_accuracy: 0.7420 - lr: 1.0000e-06\n",
            "\n",
            "Epoch 00105: LearningRateScheduler setting learning rate to 1.000000620876978e-06.\n",
            "Epoch 105/150\n",
            "23/23 [==============================] - 4s 176ms/step - loss: 0.6499 - accuracy: 0.7711 - val_loss: 0.6542 - val_accuracy: 0.7623 - lr: 1.0000e-06\n",
            "\n",
            "Epoch 00106: LearningRateScheduler setting learning rate to 1.0000004967015824e-06.\n",
            "Epoch 106/150\n",
            "23/23 [==============================] - 4s 177ms/step - loss: 0.6479 - accuracy: 0.7683 - val_loss: 0.6658 - val_accuracy: 0.7522 - lr: 1.0000e-06\n",
            "\n",
            "Epoch 00107: LearningRateScheduler setting learning rate to 1.000000397361266e-06.\n",
            "Epoch 107/150\n",
            "23/23 [==============================] - 4s 176ms/step - loss: 0.6556 - accuracy: 0.7694 - val_loss: 0.6579 - val_accuracy: 0.7536 - lr: 1.0000e-06\n",
            "\n",
            "Epoch 00108: LearningRateScheduler setting learning rate to 1.0000003178890127e-06.\n",
            "Epoch 108/150\n",
            "23/23 [==============================] - 4s 176ms/step - loss: 0.6434 - accuracy: 0.7711 - val_loss: 0.6585 - val_accuracy: 0.7522 - lr: 1.0000e-06\n",
            "\n",
            "Epoch 00109: LearningRateScheduler setting learning rate to 1.00000025431121e-06.\n",
            "Epoch 109/150\n",
            "23/23 [==============================] - 4s 177ms/step - loss: 0.6645 - accuracy: 0.7582 - val_loss: 0.6646 - val_accuracy: 0.7551 - lr: 1.0000e-06\n",
            "\n",
            "Epoch 00110: LearningRateScheduler setting learning rate to 1.000000203448968e-06.\n",
            "Epoch 110/150\n",
            "23/23 [==============================] - 4s 179ms/step - loss: 0.6453 - accuracy: 0.7734 - val_loss: 0.6562 - val_accuracy: 0.7594 - lr: 1.0000e-06\n",
            "\n",
            "Epoch 00111: LearningRateScheduler setting learning rate to 1.0000001627591744e-06.\n",
            "Epoch 111/150\n",
            "23/23 [==============================] - 4s 176ms/step - loss: 0.6561 - accuracy: 0.7738 - val_loss: 0.6566 - val_accuracy: 0.7551 - lr: 1.0000e-06\n",
            "\n",
            "Epoch 00112: LearningRateScheduler setting learning rate to 1.0000001302073395e-06.\n",
            "Epoch 112/150\n",
            "23/23 [==============================] - 4s 175ms/step - loss: 0.6617 - accuracy: 0.7704 - val_loss: 0.6628 - val_accuracy: 0.7507 - lr: 1.0000e-06\n",
            "\n",
            "Epoch 00113: LearningRateScheduler setting learning rate to 1.0000001041658716e-06.\n",
            "Epoch 113/150\n",
            "23/23 [==============================] - 4s 175ms/step - loss: 0.6489 - accuracy: 0.7680 - val_loss: 0.6658 - val_accuracy: 0.7623 - lr: 1.0000e-06\n",
            "\n",
            "Epoch 00114: LearningRateScheduler setting learning rate to 1.0000000833326973e-06.\n",
            "Epoch 114/150\n",
            "23/23 [==============================] - 4s 173ms/step - loss: 0.6487 - accuracy: 0.7673 - val_loss: 0.6602 - val_accuracy: 0.7551 - lr: 1.0000e-06\n",
            "\n",
            "Epoch 00115: LearningRateScheduler setting learning rate to 1.000000066666158e-06.\n",
            "Epoch 115/150\n",
            "23/23 [==============================] - 4s 175ms/step - loss: 0.6510 - accuracy: 0.7690 - val_loss: 0.6560 - val_accuracy: 0.7478 - lr: 1.0000e-06\n",
            "\n",
            "Epoch 00116: LearningRateScheduler setting learning rate to 1.0000000533329263e-06.\n",
            "Epoch 116/150\n",
            "23/23 [==============================] - 4s 176ms/step - loss: 0.6665 - accuracy: 0.7605 - val_loss: 0.6700 - val_accuracy: 0.7478 - lr: 1.0000e-06\n",
            "\n",
            "Epoch 00117: LearningRateScheduler setting learning rate to 1.000000042666341e-06.\n",
            "Epoch 117/150\n",
            "23/23 [==============================] - 4s 176ms/step - loss: 0.6598 - accuracy: 0.7663 - val_loss: 0.6590 - val_accuracy: 0.7609 - lr: 1.0000e-06\n",
            "\n",
            "Epoch 00118: LearningRateScheduler setting learning rate to 1.0000000341330728e-06.\n",
            "Epoch 118/150\n",
            "23/23 [==============================] - 4s 175ms/step - loss: 0.6391 - accuracy: 0.7745 - val_loss: 0.6560 - val_accuracy: 0.7536 - lr: 1.0000e-06\n",
            "\n",
            "Epoch 00119: LearningRateScheduler setting learning rate to 1.0000000273064582e-06.\n",
            "Epoch 119/150\n",
            "23/23 [==============================] - 4s 196ms/step - loss: 0.6505 - accuracy: 0.7717 - val_loss: 0.6597 - val_accuracy: 0.7493 - lr: 1.0000e-06\n",
            "\n",
            "Epoch 00120: LearningRateScheduler setting learning rate to 1.0000000218451666e-06.\n",
            "Epoch 120/150\n",
            "23/23 [==============================] - 4s 176ms/step - loss: 0.6317 - accuracy: 0.7789 - val_loss: 0.6551 - val_accuracy: 0.7638 - lr: 1.0000e-06\n",
            "\n",
            "Epoch 00121: LearningRateScheduler setting learning rate to 1.0000000174761332e-06.\n",
            "Epoch 121/150\n",
            "23/23 [==============================] - 4s 179ms/step - loss: 0.6434 - accuracy: 0.7704 - val_loss: 0.6635 - val_accuracy: 0.7522 - lr: 1.0000e-06\n",
            "\n",
            "Epoch 00122: LearningRateScheduler setting learning rate to 1.0000000139809066e-06.\n",
            "Epoch 122/150\n",
            "23/23 [==============================] - 4s 178ms/step - loss: 0.6615 - accuracy: 0.7636 - val_loss: 0.6582 - val_accuracy: 0.7609 - lr: 1.0000e-06\n",
            "\n",
            "Epoch 00123: LearningRateScheduler setting learning rate to 1.0000000111847253e-06.\n",
            "Epoch 123/150\n",
            "23/23 [==============================] - 4s 177ms/step - loss: 0.6364 - accuracy: 0.7755 - val_loss: 0.6616 - val_accuracy: 0.7609 - lr: 1.0000e-06\n",
            "\n",
            "Epoch 00124: LearningRateScheduler setting learning rate to 1.0000000089477803e-06.\n",
            "Epoch 124/150\n",
            "23/23 [==============================] - 4s 179ms/step - loss: 0.6429 - accuracy: 0.7768 - val_loss: 0.6669 - val_accuracy: 0.7493 - lr: 1.0000e-06\n",
            "\n",
            "Epoch 00125: LearningRateScheduler setting learning rate to 1.0000000071582241e-06.\n",
            "Epoch 125/150\n",
            "23/23 [==============================] - 4s 179ms/step - loss: 0.6546 - accuracy: 0.7653 - val_loss: 0.6643 - val_accuracy: 0.7449 - lr: 1.0000e-06\n",
            "\n",
            "Epoch 00126: LearningRateScheduler setting learning rate to 1.0000000057265792e-06.\n",
            "Epoch 126/150\n",
            "23/23 [==============================] - 4s 178ms/step - loss: 0.6532 - accuracy: 0.7717 - val_loss: 0.6621 - val_accuracy: 0.7522 - lr: 1.0000e-06\n",
            "\n",
            "Epoch 00127: LearningRateScheduler setting learning rate to 1.0000000045812634e-06.\n",
            "Epoch 127/150\n",
            "23/23 [==============================] - 4s 176ms/step - loss: 0.6535 - accuracy: 0.7680 - val_loss: 0.6601 - val_accuracy: 0.7536 - lr: 1.0000e-06\n",
            "\n",
            "Epoch 00128: LearningRateScheduler setting learning rate to 1.0000000036650107e-06.\n",
            "Epoch 128/150\n",
            "23/23 [==============================] - 4s 177ms/step - loss: 0.6361 - accuracy: 0.7812 - val_loss: 0.6654 - val_accuracy: 0.7478 - lr: 1.0000e-06\n",
            "\n",
            "Epoch 00129: LearningRateScheduler setting learning rate to 1.0000000029320085e-06.\n",
            "Epoch 129/150\n",
            "23/23 [==============================] - 4s 177ms/step - loss: 0.6428 - accuracy: 0.7704 - val_loss: 0.6608 - val_accuracy: 0.7493 - lr: 1.0000e-06\n",
            "\n",
            "Epoch 00130: LearningRateScheduler setting learning rate to 1.0000000023456068e-06.\n",
            "Epoch 130/150\n",
            "23/23 [==============================] - 4s 177ms/step - loss: 0.6479 - accuracy: 0.7656 - val_loss: 0.6586 - val_accuracy: 0.7493 - lr: 1.0000e-06\n",
            "\n",
            "Epoch 00131: LearningRateScheduler setting learning rate to 1.0000000018764854e-06.\n",
            "Epoch 131/150\n",
            "23/23 [==============================] - 4s 176ms/step - loss: 0.6604 - accuracy: 0.7602 - val_loss: 0.6584 - val_accuracy: 0.7551 - lr: 1.0000e-06\n",
            "\n",
            "Epoch 00132: LearningRateScheduler setting learning rate to 1.0000000015011884e-06.\n",
            "Epoch 132/150\n",
            "23/23 [==============================] - 4s 177ms/step - loss: 0.6427 - accuracy: 0.7762 - val_loss: 0.6597 - val_accuracy: 0.7522 - lr: 1.0000e-06\n",
            "\n",
            "Epoch 00133: LearningRateScheduler setting learning rate to 1.0000000012009506e-06.\n",
            "Epoch 133/150\n",
            "23/23 [==============================] - 4s 190ms/step - loss: 0.6573 - accuracy: 0.7670 - val_loss: 0.6627 - val_accuracy: 0.7507 - lr: 1.0000e-06\n",
            "\n",
            "Epoch 00134: LearningRateScheduler setting learning rate to 1.0000000009607606e-06.\n",
            "Epoch 134/150\n",
            "23/23 [==============================] - 4s 176ms/step - loss: 0.6497 - accuracy: 0.7812 - val_loss: 0.6577 - val_accuracy: 0.7522 - lr: 1.0000e-06\n",
            "\n",
            "Epoch 00135: LearningRateScheduler setting learning rate to 1.0000000007686085e-06.\n",
            "Epoch 135/150\n",
            "23/23 [==============================] - 4s 176ms/step - loss: 0.6462 - accuracy: 0.7724 - val_loss: 0.6633 - val_accuracy: 0.7623 - lr: 1.0000e-06\n",
            "\n",
            "Epoch 00136: LearningRateScheduler setting learning rate to 1.0000000006148868e-06.\n",
            "Epoch 136/150\n",
            "23/23 [==============================] - 4s 178ms/step - loss: 0.6616 - accuracy: 0.7707 - val_loss: 0.6581 - val_accuracy: 0.7536 - lr: 1.0000e-06\n",
            "\n",
            "Epoch 00137: LearningRateScheduler setting learning rate to 1.0000000004919095e-06.\n",
            "Epoch 137/150\n",
            "23/23 [==============================] - 4s 177ms/step - loss: 0.6539 - accuracy: 0.7697 - val_loss: 0.6584 - val_accuracy: 0.7464 - lr: 1.0000e-06\n",
            "\n",
            "Epoch 00138: LearningRateScheduler setting learning rate to 1.0000000003935274e-06.\n",
            "Epoch 138/150\n",
            "23/23 [==============================] - 4s 177ms/step - loss: 0.6411 - accuracy: 0.7707 - val_loss: 0.6638 - val_accuracy: 0.7449 - lr: 1.0000e-06\n",
            "\n",
            "Epoch 00139: LearningRateScheduler setting learning rate to 1.000000000314822e-06.\n",
            "Epoch 139/150\n",
            "23/23 [==============================] - 4s 176ms/step - loss: 0.6490 - accuracy: 0.7626 - val_loss: 0.6606 - val_accuracy: 0.7435 - lr: 1.0000e-06\n",
            "\n",
            "Epoch 00140: LearningRateScheduler setting learning rate to 1.0000000002518576e-06.\n",
            "Epoch 140/150\n",
            "23/23 [==============================] - 4s 176ms/step - loss: 0.6431 - accuracy: 0.7745 - val_loss: 0.6519 - val_accuracy: 0.7594 - lr: 1.0000e-06\n",
            "\n",
            "Epoch 00141: LearningRateScheduler setting learning rate to 1.000000000201486e-06.\n",
            "Epoch 141/150\n",
            "23/23 [==============================] - 4s 178ms/step - loss: 0.6525 - accuracy: 0.7721 - val_loss: 0.6544 - val_accuracy: 0.7565 - lr: 1.0000e-06\n",
            "\n",
            "Epoch 00142: LearningRateScheduler setting learning rate to 1.0000000001611888e-06.\n",
            "Epoch 142/150\n",
            "23/23 [==============================] - 4s 176ms/step - loss: 0.6473 - accuracy: 0.7734 - val_loss: 0.6556 - val_accuracy: 0.7638 - lr: 1.0000e-06\n",
            "\n",
            "Epoch 00143: LearningRateScheduler setting learning rate to 1.000000000128951e-06.\n",
            "Epoch 143/150\n",
            "23/23 [==============================] - 4s 178ms/step - loss: 0.6631 - accuracy: 0.7680 - val_loss: 0.6591 - val_accuracy: 0.7565 - lr: 1.0000e-06\n",
            "\n",
            "Epoch 00144: LearningRateScheduler setting learning rate to 1.0000000001031607e-06.\n",
            "Epoch 144/150\n",
            "23/23 [==============================] - 4s 176ms/step - loss: 0.6556 - accuracy: 0.7717 - val_loss: 0.6613 - val_accuracy: 0.7536 - lr: 1.0000e-06\n",
            "\n",
            "Epoch 00145: LearningRateScheduler setting learning rate to 1.0000000000825287e-06.\n",
            "Epoch 145/150\n",
            "23/23 [==============================] - 4s 179ms/step - loss: 0.6517 - accuracy: 0.7711 - val_loss: 0.6592 - val_accuracy: 0.7580 - lr: 1.0000e-06\n",
            "\n",
            "Epoch 00146: LearningRateScheduler setting learning rate to 1.000000000066023e-06.\n",
            "Epoch 146/150\n",
            "23/23 [==============================] - 4s 175ms/step - loss: 0.6466 - accuracy: 0.7687 - val_loss: 0.6605 - val_accuracy: 0.7522 - lr: 1.0000e-06\n",
            "\n",
            "Epoch 00147: LearningRateScheduler setting learning rate to 1.0000000000528184e-06.\n",
            "Epoch 147/150\n",
            "23/23 [==============================] - 4s 177ms/step - loss: 0.6390 - accuracy: 0.7697 - val_loss: 0.6561 - val_accuracy: 0.7551 - lr: 1.0000e-06\n",
            "\n",
            "Epoch 00148: LearningRateScheduler setting learning rate to 1.0000000000422546e-06.\n",
            "Epoch 148/150\n",
            "23/23 [==============================] - 4s 176ms/step - loss: 0.6532 - accuracy: 0.7636 - val_loss: 0.6633 - val_accuracy: 0.7536 - lr: 1.0000e-06\n",
            "\n",
            "Epoch 00149: LearningRateScheduler setting learning rate to 1.0000000000338038e-06.\n",
            "Epoch 149/150\n",
            "23/23 [==============================] - 5s 200ms/step - loss: 0.6564 - accuracy: 0.7694 - val_loss: 0.6518 - val_accuracy: 0.7551 - lr: 1.0000e-06\n",
            "\n",
            "Epoch 00150: LearningRateScheduler setting learning rate to 1.000000000027043e-06.\n",
            "Epoch 150/150\n",
            "23/23 [==============================] - 4s 177ms/step - loss: 0.6632 - accuracy: 0.7707 - val_loss: 0.6602 - val_accuracy: 0.7493 - lr: 1.0000e-06\n"
          ]
        }
      ]
    },
    {
      "cell_type": "code",
      "source": [
        "final_accuracy = history.history[\"val_accuracy\"][-5:]\n",
        "print(\"FINAL ACCURACY MEAN-5: \", np.mean(final_accuracy))"
      ],
      "metadata": {
        "id": "5hZVxzX5DPzD",
        "colab": {
          "base_uri": "https://localhost:8080/"
        },
        "outputId": "23366c5b-970c-4d46-d126-c882358a1bb7"
      },
      "execution_count": 47,
      "outputs": [
        {
          "output_type": "stream",
          "name": "stdout",
          "text": [
            "FINAL ACCURACY MEAN-5:  0.7530434966087342\n"
          ]
        }
      ]
    },
    {
      "cell_type": "code",
      "source": [
        "print(history.history.keys())\n",
        "display_training_curves(history.history['accuracy'], history.history['val_accuracy'], 'accuracy', 211)\n",
        "display_training_curves(history.history['loss'], history.history['val_loss'], 'loss', 212)"
      ],
      "metadata": {
        "id": "9ZZYL8FaDP1j",
        "colab": {
          "base_uri": "https://localhost:8080/",
          "height": 638
        },
        "outputId": "349011bc-3969-40c2-fb5d-dc6ffa69db1d"
      },
      "execution_count": 48,
      "outputs": [
        {
          "output_type": "stream",
          "name": "stdout",
          "text": [
            "dict_keys(['loss', 'accuracy', 'val_loss', 'val_accuracy', 'lr'])\n"
          ]
        },
        {
          "output_type": "display_data",
          "data": {
            "image/png": "[encoded data removed]",
            "text/plain": [
              "<Figure size 720x720 with 2 Axes>"
            ]
          },
          "metadata": {}
        }
      ]
    },
    {
      "cell_type": "code",
      "source": [
        "permutation = np.random.permutation(160)\n",
        "some_flowers, some_labels = (some_flowers[permutation], some_labels[permutation])\n",
        "\n",
        "predictions = model.predict(some_flowers, batch_size=16)\n",
        "evaluations = model.evaluate(some_flowers, some_labels, batch_size=16)\n",
        "  \n",
        "print(np.array(CLASSES)[np.argmax(predictions, axis=-1)].tolist())\n",
        "print('[val_loss, val_acc]', evaluations)"
      ],
      "metadata": {
        "id": "pA7MU8fvDP4W",
        "colab": {
          "base_uri": "https://localhost:8080/"
        },
        "outputId": "4d7a5c10-aba4-46d5-b4ec-8407efc3246b"
      },
      "execution_count": 49,
      "outputs": [
        {
          "output_type": "stream",
          "name": "stdout",
          "text": [
            "10/10 [==============================] - 4s 20ms/step - loss: 0.6299 - accuracy: 0.7438\n",
            "['tulips', 'dandelion', 'daisy', 'daisy', 'roses', 'tulips', 'daisy', 'roses', 'daisy', 'dandelion', 'tulips', 'daisy', 'sunflowers', 'tulips', 'dandelion', 'dandelion', 'tulips', 'sunflowers', 'tulips', 'dandelion', 'roses', 'roses', 'daisy', 'dandelion', 'tulips', 'dandelion', 'dandelion', 'tulips', 'daisy', 'dandelion', 'tulips', 'roses', 'tulips', 'dandelion', 'sunflowers', 'dandelion', 'dandelion', 'tulips', 'tulips', 'sunflowers', 'sunflowers', 'dandelion', 'daisy', 'dandelion', 'dandelion', 'roses', 'roses', 'daisy', 'roses', 'sunflowers', 'dandelion', 'sunflowers', 'tulips', 'roses', 'daisy', 'tulips', 'dandelion', 'roses', 'sunflowers', 'roses', 'daisy', 'sunflowers', 'daisy', 'dandelion', 'daisy', 'sunflowers', 'tulips', 'roses', 'dandelion', 'roses', 'sunflowers', 'sunflowers', 'sunflowers', 'tulips', 'dandelion', 'roses', 'tulips', 'dandelion', 'daisy', 'dandelion', 'sunflowers', 'daisy', 'daisy', 'dandelion', 'tulips', 'dandelion', 'dandelion', 'tulips', 'sunflowers', 'tulips', 'tulips', 'daisy', 'daisy', 'tulips', 'roses', 'daisy', 'dandelion', 'daisy', 'roses', 'dandelion', 'dandelion', 'sunflowers', 'dandelion', 'tulips', 'roses', 'sunflowers', 'roses', 'sunflowers', 'tulips', 'dandelion', 'tulips', 'sunflowers', 'sunflowers', 'tulips', 'dandelion', 'dandelion', 'tulips', 'dandelion', 'roses', 'daisy', 'daisy', 'daisy', 'sunflowers', 'dandelion', 'sunflowers', 'tulips', 'daisy', 'daisy', 'tulips', 'dandelion', 'dandelion', 'sunflowers', 'sunflowers', 'sunflowers', 'roses', 'roses', 'dandelion', 'tulips', 'daisy', 'daisy', 'sunflowers', 'sunflowers', 'sunflowers', 'roses', 'dandelion', 'sunflowers', 'dandelion', 'daisy', 'roses', 'roses', 'dandelion', 'sunflowers', 'dandelion', 'roses', 'roses', 'roses', 'sunflowers', 'dandelion', 'sunflowers', 'daisy']\n",
            "[val_loss, val_acc] [0.6298972964286804, 0.7437500357627869]\n"
          ]
        }
      ]
    },
    {
      "cell_type": "code",
      "source": [
        ""
      ],
      "metadata": {
        "id": "57jQIAFzDP7X"
      },
      "execution_count": 49,
      "outputs": []
    }
  ]
}